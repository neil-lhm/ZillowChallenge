{
 "cells": [
  {
   "cell_type": "code",
   "execution_count": 1,
   "metadata": {
    "collapsed": true
   },
   "outputs": [],
   "source": [
    "import tensorflow as tf\n",
    "import pandas as pd\n",
    "trainFile = \"train_2016_v2.csv\"\n",
    "df_train = pd.read_csv(trainFile, header = 0, skipinitialspace=True, engine=\"python\", \n",
    "                       parse_dates=[\"transactiondate\"])"
   ]
  },
  {
   "cell_type": "code",
   "execution_count": 2,
   "metadata": {
    "collapsed": true
   },
   "outputs": [],
   "source": [
    "propertiesFile = \"properties_2016.csv\"\n",
    "# use float dtype to handle na in pandas\n",
    "columnDtypes = {'parcelid':int, 'airconditioningtypeid':str, 'architecturalstyletypeid':str, 'basementsqft':float,\n",
    "                'bathroomcnt':float, 'bedroomcnt':float, 'buildingclasstypeid':str, 'buildingqualitytypeid':str,\n",
    "                'calculatedbathnbr':float, 'decktypeid':str, 'finishedfloor1squarefeet':float, 'calculatedfinishedsquarefeet':float,\n",
    "                'finishedsquarefeet12':float, 'finishedsquarefeet13':float, 'finishedsquarefeet15':float, 'finishedsquarefeet50':float,\n",
    "                'finishedsquarefeet6':float, 'fips':str, 'fireplacecnt':float, 'fullbathcnt':float, 'garagecarcnt':float, 'garagetotalsqft':float,\n",
    "                'hashottuborspa':str, 'heatingorsystemtypeid':str, 'latitude':float, 'longitude':float, 'lotsizesquarefeet':float, 'poolcnt':float,\n",
    "                'poolsizesum':float, 'pooltypeid10':str, 'pooltypeid2':str, 'pooltypeid7':str, 'propertycountylandusecode':str,\n",
    "                'propertylandusetypeid':str, 'propertyzoningdesc':str, 'rawcensustractandblock':float, 'regionidcity':str,\n",
    "                'regionidcounty':str, 'regionidneighborhood':str, 'regionidzip':str, 'roomcnt':float, 'storytypeid':float,\n",
    "                'threequarterbathnbr': float, 'typeconstructiontypeid':float, 'unitcnt':float, 'yardbuildingsqft17':float,\n",
    "                'yardbuildingsqft26':float, 'yearbuilt':float, 'numberofstories': float, 'fireplaceflag':str, 'structuretaxvaluedollarcnt':float,\n",
    "                'taxvaluedollarcnt': float, 'assessmentyear':float, 'landtaxvaluedollarcnt': float, 'taxamount':float, 'taxdelinquencyflag':str,\n",
    "                'taxdelinquencyyear': float, 'censustractandblock':float}\n",
    "df_properties = pd.read_csv(propertiesFile, header = 0, skipinitialspace=True, dtype=columnDtypes, \n",
    "                            engine=\"c\")"
   ]
  },
  {
   "cell_type": "code",
   "execution_count": 3,
   "metadata": {
    "collapsed": true
   },
   "outputs": [],
   "source": [
    "# apply label encoder on properties\n",
    "from sklearn.preprocessing import LabelEncoder\n",
    "for column in df_properties.columns:\n",
    "    df_properties[column] = df_properties[column].fillna(-1)\n",
    "    if 'object' == df_properties[column].dtype:\n",
    "        labelEncoder = LabelEncoder()\n",
    "        target = list(df_properties[column].values)\n",
    "        labelEncoder.fit(target)\n",
    "        df_properties[column] = labelEncoder.transform(target)"
   ]
  },
  {
   "cell_type": "code",
   "execution_count": 4,
   "metadata": {
    "collapsed": true
   },
   "outputs": [],
   "source": [
    "inter = pd.merge(df_properties, df_train, how=\"inner\", on=[\"parcelid\"]);\n",
    "inter.shape;"
   ]
  },
  {
   "cell_type": "code",
   "execution_count": 5,
   "metadata": {
    "collapsed": true
   },
   "outputs": [],
   "source": [
    "inter['transactiondate'] = pd.to_datetime(df_train[\"transactiondate\"])\n",
    "inter['transaction_year'] = inter['transactiondate'].dt.year\n",
    "inter['transaction_month'] = inter['transactiondate'].dt.month\n",
    "inter['transaction_day'] = inter['transactiondate'].dt.day"
   ]
  },
  {
   "cell_type": "code",
   "execution_count": 6,
   "metadata": {
    "collapsed": true
   },
   "outputs": [],
   "source": [
    "import numpy as np\n",
    "np.random.seed(1)\n",
    "datasetSize = inter.shape[0]\n",
    "trainRatio = .8\n",
    "trainIndex = set(np.random.choice(datasetSize, int(datasetSize * trainRatio), replace=False))\n",
    "testIndex = set(range(datasetSize)) - trainIndex\n",
    "# cast to list to indexing dataframe\n",
    "trainIndex = list(trainIndex)\n",
    "testIndex = list(testIndex)"
   ]
  },
  {
   "cell_type": "code",
   "execution_count": 7,
   "metadata": {
    "collapsed": true
   },
   "outputs": [],
   "source": [
    "columns_to_drop = [\n",
    "    'parcelid', 'logerror', 'transactiondate', 'propertyzoningdesc', \n",
    "    'propertycountylandusecode','fireplacecnt', 'fireplaceflag'\n",
    "]\n",
    "\n",
    "df_trainx = inter.iloc[trainIndex]\n",
    "trainy = df_trainx['logerror'].astype(float)\n",
    "df_trainx = df_trainx.drop(columns_to_drop, axis=1)\n",
    "df_testx = inter.iloc[testIndex]\n",
    "testy = df_testx['logerror'].astype(float)\n",
    "df_testx = df_testx.drop(columns_to_drop, axis=1)"
   ]
  },
  {
   "cell_type": "code",
   "execution_count": 8,
   "metadata": {
    "collapsed": true
   },
   "outputs": [],
   "source": [
    "from sklearn.preprocessing import MinMaxScaler\n",
    "standardScaler = MinMaxScaler()\n",
    "df_trainx.iloc[::] = standardScaler.fit_transform(df_trainx.iloc[::])\n",
    "df_testx.iloc[::] = standardScaler.transform(df_testx.iloc[::])"
   ]
  },
  {
   "cell_type": "code",
   "execution_count": 9,
   "metadata": {
    "collapsed": true
   },
   "outputs": [],
   "source": [
    "def input_fn(df_trainx, trainy, num_epochs, shuffle=True, batch_size=32, num_threads=1):\n",
    "    return tf.estimator.inputs.pandas_input_fn(\n",
    "        x=df_trainx,\n",
    "        y=trainy,\n",
    "        batch_size=batch_size,\n",
    "        num_epochs=num_epochs,\n",
    "        shuffle=shuffle,\n",
    "        num_threads=num_threads)"
   ]
  },
  {
   "cell_type": "code",
   "execution_count": 10,
   "metadata": {
    "collapsed": true
   },
   "outputs": [],
   "source": [
    "def build_model_columns():\n",
    "\n",
    "    airconditioningtypeid = tf.feature_column.numeric_column(\"airconditioningtypeid\")\n",
    "    architecturalstyletypeid = tf.feature_column.numeric_column(\"architecturalstyletypeid\")\n",
    "    basementsqft = tf.feature_column.numeric_column(\"basementsqft\")\n",
    "    bathroomcnt = tf.feature_column.numeric_column(\"bathroomcnt\")\n",
    "    bedroomcnt = tf.feature_column.numeric_column(\"bedroomcnt\")\n",
    "    buildingclasstypeid = tf.feature_column.numeric_column(\"buildingclasstypeid\")\n",
    "    buildingqualitytypeid = tf.feature_column.numeric_column(\"buildingqualitytypeid\")\n",
    "    calculatedbathnbr = tf.feature_column.numeric_column(\"calculatedbathnbr\")\n",
    "    decktypeid = tf.feature_column.numeric_column(\"decktypeid\")\n",
    "    finishedfloor1squarefeet = tf.feature_column.numeric_column(\"finishedfloor1squarefeet\")\n",
    "    calculatedfinishedsquarefeet = tf.feature_column.numeric_column(\"calculatedfinishedsquarefeet\")\n",
    "    finishedsquarefeet12 = tf.feature_column.numeric_column(\"finishedsquarefeet12\")\n",
    "    finishedsquarefeet13 = tf.feature_column.numeric_column(\"finishedsquarefeet13\")\n",
    "    finishedsquarefeet15 = tf.feature_column.numeric_column(\"finishedsquarefeet15\")\n",
    "    finishedsquarefeet50 = tf.feature_column.numeric_column(\"finishedsquarefeet50\")\n",
    "    finishedsquarefeet6 = tf.feature_column.numeric_column(\"finishedsquarefeet6\")\n",
    "    fips = tf.feature_column.numeric_column(\"fips\")\n",
    "    fullbathcnt = tf.feature_column.numeric_column(\"fullbathcnt\")\n",
    "    garagecarcnt = tf.feature_column.numeric_column(\"garagecarcnt\")\n",
    "    garagetotalsqft = tf.feature_column.numeric_column(\"garagetotalsqft\")\n",
    "    hashottuborspa = tf.feature_column.numeric_column(\"hashottuborspa\")\n",
    "    heatingorsystemtypeid = tf.feature_column.numeric_column(\"heatingorsystemtypeid\")\n",
    "    latitude = tf.feature_column.numeric_column(\"latitude\")\n",
    "    longitude = tf.feature_column.numeric_column(\"longitude\")\n",
    "    lotsizesquarefeet = tf.feature_column.numeric_column(\"lotsizesquarefeet\")\n",
    "    poolcnt = tf.feature_column.numeric_column(\"poolcnt\")\n",
    "    poolsizesum = tf.feature_column.numeric_column(\"poolsizesum\")\n",
    "    pooltypeid10 = tf.feature_column.numeric_column(\"pooltypeid10\")\n",
    "    pooltypeid2 = tf.feature_column.numeric_column(\"pooltypeid2\")\n",
    "    pooltypeid7 = tf.feature_column.numeric_column(\"pooltypeid7\")\n",
    "    propertylandusetypeid = tf.feature_column.numeric_column(\"propertylandusetypeid\")\n",
    "    rawcensustractandblock = tf.feature_column.numeric_column(\"rawcensustractandblock\")\n",
    "    regionidcity = tf.feature_column.numeric_column(\"regionidcity\")\n",
    "    regionidcounty = tf.feature_column.numeric_column(\"regionidcounty\")\n",
    "    regionidneighborhood = tf.feature_column.numeric_column(\"regionidneighborhood\")\n",
    "    regionidzip = tf.feature_column.numeric_column(\"regionidzip\")\n",
    "    roomcnt = tf.feature_column.numeric_column(\"roomcnt\")\n",
    "    storytypeid = tf.feature_column.numeric_column(\"storytypeid\")\n",
    "    threequarterbathnbr = tf.feature_column.numeric_column(\"threequarterbathnbr\")\n",
    "    typeconstructiontypeid = tf.feature_column.numeric_column(\"typeconstructiontypeid\")\n",
    "    unitcnt = tf.feature_column.numeric_column(\"unitcnt\")\n",
    "    yardbuildingsqft17 = tf.feature_column.numeric_column(\"yardbuildingsqft17\")\n",
    "    yardbuildingsqft26 = tf.feature_column.numeric_column(\"yardbuildingsqft26\")\n",
    "    yearbuilt = tf.feature_column.numeric_column(\"yearbuilt\")\n",
    "    numberofstories = tf.feature_column.numeric_column(\"numberofstories\")\n",
    "    structuretaxvaluedollarcnt = tf.feature_column.numeric_column(\"structuretaxvaluedollarcnt\")\n",
    "    taxvaluedollarcnt = tf.feature_column.numeric_column(\"taxvaluedollarcnt\")\n",
    "    assessmentyear = tf.feature_column.numeric_column(\"assessmentyear\")\n",
    "    landtaxvaluedollarcnt = tf.feature_column.numeric_column(\"landtaxvaluedollarcnt\")\n",
    "    taxamount = tf.feature_column.numeric_column(\"taxamount\")\n",
    "    taxdelinquencyflag = tf.feature_column.numeric_column(\"taxdelinquencyflag\")\n",
    "    taxdelinquencyyear = tf.feature_column.numeric_column(\"taxdelinquencyyear\")\n",
    "    censustractandblock = tf.feature_column.numeric_column(\"censustractandblock\")\n",
    "    transaction_year = tf.feature_column.numeric_column(\"transaction_year\")\n",
    "    transaction_month = tf.feature_column.numeric_column(\"transaction_month\")\n",
    "    transaction_day = tf.feature_column.numeric_column(\"transaction_day\")\n",
    "\n",
    "    numeric_features = [\n",
    "        airconditioningtypeid, architecturalstyletypeid, basementsqft,\n",
    "        bathroomcnt, bedroomcnt, buildingclasstypeid,\n",
    "        buildingqualitytypeid, calculatedbathnbr, decktypeid,\n",
    "        finishedfloor1squarefeet, calculatedfinishedsquarefeet,\n",
    "        finishedsquarefeet12, finishedsquarefeet13, finishedsquarefeet15,\n",
    "        finishedsquarefeet50, finishedsquarefeet6, fips, fullbathcnt,\n",
    "        garagecarcnt, garagetotalsqft, hashottuborspa,\n",
    "        heatingorsystemtypeid, latitude, longitude, lotsizesquarefeet,\n",
    "        poolcnt, poolsizesum, pooltypeid10, pooltypeid2, pooltypeid7,\n",
    "        propertylandusetypeid, rawcensustractandblock, regionidcity,\n",
    "        regionidcounty, regionidneighborhood, regionidzip, roomcnt,\n",
    "        storytypeid, threequarterbathnbr, typeconstructiontypeid,\n",
    "        unitcnt, yardbuildingsqft17, yardbuildingsqft26, yearbuilt,\n",
    "        numberofstories, structuretaxvaluedollarcnt, taxvaluedollarcnt,\n",
    "        assessmentyear, landtaxvaluedollarcnt, taxamount,\n",
    "        taxdelinquencyflag, taxdelinquencyyear, censustractandblock,\n",
    "        transaction_year, transaction_month, transaction_day\n",
    "    ]\n",
    "    \n",
    "    return numeric_features"
   ]
  },
  {
   "cell_type": "code",
   "execution_count": 11,
   "metadata": {
    "collapsed": true
   },
   "outputs": [],
   "source": [
    "def build_estimator(model_dir, model_type):\n",
    "    numeric_features = build_model_columns()\n",
    "    hidden_units = [1024, 512, 256, 128]\n",
    "\n",
    "    if model_type == 'wide':\n",
    "        return tf.estimator.LinearRegressor(\n",
    "                model_dir=model_dir,\n",
    "                feature_columns=numeric_features)\n",
    "    elif model_type == 'deep':\n",
    "        return tf.estimator.DNNRegressor(\n",
    "                model_dir=model_dir,\n",
    "                feature_columns=numeric_features,\n",
    "                hidden_units=hidden_units,\n",
    "                dropout=0.5)\n",
    "    else:\n",
    "        return tf.estimator.DNNLinearCombinedRegressor(\n",
    "                model_dir=model_dir,\n",
    "                linear_feature_columns=numeric_features,\n",
    "                dnn_feature_columns=numeric_features,\n",
    "                dnn_hidden_units=hidden_units,\n",
    "                dnn_dropout=0.5)"
   ]
  },
  {
   "cell_type": "code",
   "execution_count": 12,
   "metadata": {},
   "outputs": [
    {
     "name": "stdout",
     "output_type": "stream",
     "text": [
      "INFO:tensorflow:Using default config.\n",
      "INFO:tensorflow:Using config: {'_model_dir': '/tmp/tmpx2s6kbiq', '_tf_random_seed': 1, '_save_summary_steps': 100, '_save_checkpoints_secs': 600, '_save_checkpoints_steps': None, '_session_config': None, '_keep_checkpoint_max': 5, '_keep_checkpoint_every_n_hours': 10000, '_log_step_count_steps': 100}\n"
     ]
    }
   ],
   "source": [
    "import tempfile\n",
    "model_dir = tempfile.mkdtemp()\n",
    "m = build_estimator(model_dir, 'combined')"
   ]
  },
  {
   "cell_type": "code",
   "execution_count": 13,
   "metadata": {
    "scrolled": true
   },
   "outputs": [
    {
     "name": "stdout",
     "output_type": "stream",
     "text": [
      "INFO:tensorflow:Create CheckpointSaverHook.\n",
      "INFO:tensorflow:Saving checkpoints for 1 into /tmp/tmpx2s6kbiq/model.ckpt.\n",
      "INFO:tensorflow:loss = 6.17213, step = 1\n",
      "INFO:tensorflow:global_step/sec: 99.9272\n",
      "INFO:tensorflow:loss = 1.13739, step = 101 (1.003 sec)\n",
      "INFO:tensorflow:global_step/sec: 99.6753\n",
      "INFO:tensorflow:loss = 0.30496, step = 201 (1.003 sec)\n",
      "INFO:tensorflow:global_step/sec: 99.0383\n",
      "INFO:tensorflow:loss = 0.295025, step = 301 (1.009 sec)\n",
      "INFO:tensorflow:global_step/sec: 105.043\n",
      "INFO:tensorflow:loss = 0.310695, step = 401 (0.953 sec)\n",
      "INFO:tensorflow:global_step/sec: 97.4373\n",
      "INFO:tensorflow:loss = 0.363833, step = 501 (1.026 sec)\n",
      "INFO:tensorflow:global_step/sec: 101.813\n",
      "INFO:tensorflow:loss = 0.974346, step = 601 (0.981 sec)\n",
      "INFO:tensorflow:global_step/sec: 101.426\n",
      "INFO:tensorflow:loss = 0.160299, step = 701 (0.988 sec)\n",
      "INFO:tensorflow:global_step/sec: 96.8258\n",
      "INFO:tensorflow:loss = 0.377431, step = 801 (1.032 sec)\n",
      "INFO:tensorflow:global_step/sec: 100.087\n",
      "INFO:tensorflow:loss = 0.120646, step = 901 (0.999 sec)\n",
      "INFO:tensorflow:global_step/sec: 100.637\n",
      "INFO:tensorflow:loss = 1.84023, step = 1001 (0.993 sec)\n",
      "INFO:tensorflow:global_step/sec: 92.1253\n",
      "INFO:tensorflow:loss = 1.26139, step = 1101 (1.086 sec)\n",
      "INFO:tensorflow:global_step/sec: 97.2054\n",
      "INFO:tensorflow:loss = 0.256171, step = 1201 (1.029 sec)\n",
      "INFO:tensorflow:global_step/sec: 99.5623\n",
      "INFO:tensorflow:loss = 0.449449, step = 1301 (1.005 sec)\n",
      "INFO:tensorflow:global_step/sec: 101.642\n",
      "INFO:tensorflow:loss = 0.401425, step = 1401 (0.984 sec)\n",
      "INFO:tensorflow:global_step/sec: 93.9989\n",
      "INFO:tensorflow:loss = 0.378874, step = 1501 (1.066 sec)\n",
      "INFO:tensorflow:global_step/sec: 85.4506\n",
      "INFO:tensorflow:loss = 3.06809, step = 1601 (1.167 sec)\n",
      "INFO:tensorflow:global_step/sec: 84.2698\n",
      "INFO:tensorflow:loss = 1.49029, step = 1701 (1.187 sec)\n",
      "INFO:tensorflow:global_step/sec: 97.5129\n",
      "INFO:tensorflow:loss = 0.739987, step = 1801 (1.026 sec)\n",
      "INFO:tensorflow:global_step/sec: 101.895\n",
      "INFO:tensorflow:loss = 0.299705, step = 1901 (0.981 sec)\n",
      "INFO:tensorflow:global_step/sec: 100.603\n",
      "INFO:tensorflow:loss = 0.500161, step = 2001 (0.994 sec)\n",
      "INFO:tensorflow:global_step/sec: 99.6903\n",
      "INFO:tensorflow:loss = 0.719862, step = 2101 (1.004 sec)\n",
      "INFO:tensorflow:global_step/sec: 101.014\n",
      "INFO:tensorflow:loss = 0.155076, step = 2201 (0.990 sec)\n",
      "INFO:tensorflow:global_step/sec: 103.582\n",
      "INFO:tensorflow:loss = 1.42916, step = 2301 (0.966 sec)\n",
      "INFO:tensorflow:global_step/sec: 97.2051\n",
      "INFO:tensorflow:loss = 0.293709, step = 2401 (1.030 sec)\n",
      "INFO:tensorflow:global_step/sec: 96.7656\n",
      "INFO:tensorflow:loss = 0.3456, step = 2501 (1.031 sec)\n",
      "INFO:tensorflow:global_step/sec: 98.1798\n",
      "INFO:tensorflow:loss = 2.47949, step = 2601 (1.019 sec)\n",
      "INFO:tensorflow:global_step/sec: 100.66\n",
      "INFO:tensorflow:loss = 0.26654, step = 2701 (0.993 sec)\n",
      "INFO:tensorflow:global_step/sec: 82.8936\n",
      "INFO:tensorflow:loss = 0.68788, step = 2801 (1.209 sec)\n",
      "INFO:tensorflow:global_step/sec: 74.1119\n",
      "INFO:tensorflow:loss = 1.02551, step = 2901 (1.347 sec)\n",
      "INFO:tensorflow:global_step/sec: 97.6775\n",
      "INFO:tensorflow:loss = 0.274445, step = 3001 (1.023 sec)\n",
      "INFO:tensorflow:global_step/sec: 102.269\n",
      "INFO:tensorflow:loss = 1.09399, step = 3101 (0.978 sec)\n",
      "INFO:tensorflow:global_step/sec: 100.04\n",
      "INFO:tensorflow:loss = 0.466959, step = 3201 (1.000 sec)\n",
      "INFO:tensorflow:global_step/sec: 103.74\n",
      "INFO:tensorflow:loss = 0.166497, step = 3301 (0.964 sec)\n",
      "INFO:tensorflow:global_step/sec: 100.653\n",
      "INFO:tensorflow:loss = 1.64826, step = 3401 (0.993 sec)\n",
      "INFO:tensorflow:global_step/sec: 102.235\n",
      "INFO:tensorflow:loss = 0.202393, step = 3501 (0.978 sec)\n",
      "INFO:tensorflow:global_step/sec: 102.233\n",
      "INFO:tensorflow:loss = 0.372969, step = 3601 (0.978 sec)\n",
      "INFO:tensorflow:global_step/sec: 97.9819\n",
      "INFO:tensorflow:loss = 0.336847, step = 3701 (1.021 sec)\n",
      "INFO:tensorflow:global_step/sec: 100.833\n",
      "INFO:tensorflow:loss = 0.488773, step = 3801 (0.991 sec)\n",
      "INFO:tensorflow:global_step/sec: 101.932\n",
      "INFO:tensorflow:loss = 0.165696, step = 3901 (0.981 sec)\n",
      "INFO:tensorflow:global_step/sec: 101.909\n",
      "INFO:tensorflow:loss = 4.58, step = 4001 (0.981 sec)\n",
      "INFO:tensorflow:global_step/sec: 101.571\n",
      "INFO:tensorflow:loss = 0.220482, step = 4101 (0.985 sec)\n",
      "INFO:tensorflow:global_step/sec: 95.605\n",
      "INFO:tensorflow:loss = 0.201416, step = 4201 (1.047 sec)\n",
      "INFO:tensorflow:global_step/sec: 98.7839\n",
      "INFO:tensorflow:loss = 0.268937, step = 4301 (1.011 sec)\n",
      "INFO:tensorflow:global_step/sec: 97.6168\n",
      "INFO:tensorflow:loss = 0.698946, step = 4401 (1.024 sec)\n",
      "INFO:tensorflow:global_step/sec: 97.2026\n",
      "INFO:tensorflow:loss = 0.741167, step = 4501 (1.029 sec)\n",
      "INFO:tensorflow:global_step/sec: 105.133\n",
      "INFO:tensorflow:loss = 0.316326, step = 4601 (0.951 sec)\n",
      "INFO:tensorflow:global_step/sec: 102.126\n",
      "INFO:tensorflow:loss = 0.421066, step = 4701 (0.979 sec)\n",
      "INFO:tensorflow:global_step/sec: 97.9599\n",
      "INFO:tensorflow:loss = 0.181585, step = 4801 (1.021 sec)\n",
      "INFO:tensorflow:global_step/sec: 104.119\n",
      "INFO:tensorflow:loss = 5.95756, step = 4901 (0.960 sec)\n",
      "INFO:tensorflow:global_step/sec: 97.8413\n",
      "INFO:tensorflow:loss = 0.113394, step = 5001 (1.022 sec)\n",
      "INFO:tensorflow:global_step/sec: 98.333\n",
      "INFO:tensorflow:loss = 0.879136, step = 5101 (1.017 sec)\n",
      "INFO:tensorflow:global_step/sec: 100.263\n",
      "INFO:tensorflow:loss = 0.346461, step = 5201 (0.997 sec)\n",
      "INFO:tensorflow:global_step/sec: 101.149\n",
      "INFO:tensorflow:loss = 0.129142, step = 5301 (0.993 sec)\n",
      "INFO:tensorflow:global_step/sec: 100.336\n",
      "INFO:tensorflow:loss = 0.372527, step = 5401 (0.993 sec)\n",
      "INFO:tensorflow:global_step/sec: 105.033\n",
      "INFO:tensorflow:loss = 1.60306, step = 5501 (0.952 sec)\n",
      "INFO:tensorflow:global_step/sec: 101.491\n",
      "INFO:tensorflow:loss = 3.25209, step = 5601 (0.985 sec)\n",
      "INFO:tensorflow:global_step/sec: 95.4193\n",
      "INFO:tensorflow:loss = 0.504457, step = 5701 (1.046 sec)\n",
      "INFO:tensorflow:global_step/sec: 98.7411\n",
      "INFO:tensorflow:loss = 0.288237, step = 5801 (1.014 sec)\n",
      "INFO:tensorflow:global_step/sec: 101.439\n",
      "INFO:tensorflow:loss = 0.442163, step = 5901 (0.986 sec)\n",
      "INFO:tensorflow:global_step/sec: 104.798\n",
      "INFO:tensorflow:loss = 0.0826689, step = 6001 (0.954 sec)\n",
      "INFO:tensorflow:global_step/sec: 102.199\n",
      "INFO:tensorflow:loss = 0.306344, step = 6101 (0.978 sec)\n",
      "INFO:tensorflow:global_step/sec: 99.9944\n",
      "INFO:tensorflow:loss = 1.4556, step = 6201 (1.000 sec)\n",
      "INFO:tensorflow:global_step/sec: 100.991\n",
      "INFO:tensorflow:loss = 0.880178, step = 6301 (0.990 sec)\n",
      "INFO:tensorflow:global_step/sec: 98.7087\n",
      "INFO:tensorflow:loss = 0.475501, step = 6401 (1.015 sec)\n",
      "INFO:tensorflow:global_step/sec: 92.615\n",
      "INFO:tensorflow:loss = 2.67557, step = 6501 (1.078 sec)\n",
      "INFO:tensorflow:global_step/sec: 100.018\n",
      "INFO:tensorflow:loss = 1.05705, step = 6601 (1.000 sec)\n",
      "INFO:tensorflow:global_step/sec: 101.804\n",
      "INFO:tensorflow:loss = 0.358636, step = 6701 (0.982 sec)\n",
      "INFO:tensorflow:global_step/sec: 99.6732\n",
      "INFO:tensorflow:loss = 1.61395, step = 6801 (1.005 sec)\n",
      "INFO:tensorflow:global_step/sec: 98.89\n",
      "INFO:tensorflow:loss = 0.342751, step = 6901 (1.010 sec)\n",
      "INFO:tensorflow:global_step/sec: 92.5792\n",
      "INFO:tensorflow:loss = 0.40787, step = 7001 (1.080 sec)\n",
      "INFO:tensorflow:global_step/sec: 102.712\n",
      "INFO:tensorflow:loss = 0.0797173, step = 7101 (0.973 sec)\n",
      "INFO:tensorflow:global_step/sec: 97.4527\n",
      "INFO:tensorflow:loss = 1.04011, step = 7201 (1.028 sec)\n",
      "INFO:tensorflow:global_step/sec: 99.0025\n",
      "INFO:tensorflow:loss = 0.210133, step = 7301 (1.009 sec)\n",
      "INFO:tensorflow:global_step/sec: 90.8048\n",
      "INFO:tensorflow:loss = 0.721892, step = 7401 (1.102 sec)\n",
      "INFO:tensorflow:global_step/sec: 101.412\n",
      "INFO:tensorflow:loss = 0.666469, step = 7501 (0.985 sec)\n",
      "INFO:tensorflow:global_step/sec: 102.341\n",
      "INFO:tensorflow:loss = 0.0898605, step = 7601 (0.977 sec)\n",
      "INFO:tensorflow:global_step/sec: 101.665\n",
      "INFO:tensorflow:loss = 0.300712, step = 7701 (0.984 sec)\n",
      "INFO:tensorflow:global_step/sec: 101.13\n",
      "INFO:tensorflow:loss = 0.458845, step = 7801 (0.989 sec)\n",
      "INFO:tensorflow:global_step/sec: 100.987\n",
      "INFO:tensorflow:loss = 0.228376, step = 7901 (0.990 sec)\n",
      "INFO:tensorflow:global_step/sec: 98.0527\n",
      "INFO:tensorflow:loss = 0.640456, step = 8001 (1.020 sec)\n",
      "INFO:tensorflow:global_step/sec: 102.482\n",
      "INFO:tensorflow:loss = 0.511743, step = 8101 (0.976 sec)\n",
      "INFO:tensorflow:global_step/sec: 99.8249\n",
      "INFO:tensorflow:loss = 0.637182, step = 8201 (1.002 sec)\n",
      "INFO:tensorflow:global_step/sec: 99.7736\n"
     ]
    },
    {
     "name": "stdout",
     "output_type": "stream",
     "text": [
      "INFO:tensorflow:loss = 0.338881, step = 8301 (1.002 sec)\n",
      "INFO:tensorflow:global_step/sec: 98.7968\n",
      "INFO:tensorflow:loss = 0.577625, step = 8401 (1.014 sec)\n",
      "INFO:tensorflow:global_step/sec: 104.098\n",
      "INFO:tensorflow:loss = 0.283999, step = 8501 (0.959 sec)\n",
      "INFO:tensorflow:global_step/sec: 97.79\n",
      "INFO:tensorflow:loss = 0.62813, step = 8601 (1.022 sec)\n",
      "INFO:tensorflow:global_step/sec: 100.866\n",
      "INFO:tensorflow:loss = 1.09484, step = 8701 (0.992 sec)\n",
      "INFO:tensorflow:global_step/sec: 102.995\n",
      "INFO:tensorflow:loss = 0.217807, step = 8801 (0.972 sec)\n",
      "INFO:tensorflow:global_step/sec: 97.7984\n",
      "INFO:tensorflow:loss = 0.212617, step = 8901 (1.021 sec)\n",
      "INFO:tensorflow:global_step/sec: 101.507\n",
      "INFO:tensorflow:loss = 0.229537, step = 9001 (0.985 sec)\n",
      "INFO:tensorflow:global_step/sec: 96.5538\n",
      "INFO:tensorflow:loss = 1.984, step = 9101 (1.036 sec)\n",
      "INFO:tensorflow:global_step/sec: 103.344\n",
      "INFO:tensorflow:loss = 0.381411, step = 9201 (0.968 sec)\n",
      "INFO:tensorflow:global_step/sec: 100.402\n",
      "INFO:tensorflow:loss = 0.365025, step = 9301 (0.996 sec)\n",
      "INFO:tensorflow:global_step/sec: 95.5275\n",
      "INFO:tensorflow:loss = 1.01105, step = 9401 (1.047 sec)\n",
      "INFO:tensorflow:global_step/sec: 98.7601\n",
      "INFO:tensorflow:loss = 1.05763, step = 9501 (1.012 sec)\n",
      "INFO:tensorflow:global_step/sec: 100.904\n",
      "INFO:tensorflow:loss = 0.87313, step = 9601 (0.991 sec)\n",
      "INFO:tensorflow:global_step/sec: 101.34\n",
      "INFO:tensorflow:loss = 0.207543, step = 9701 (0.987 sec)\n",
      "INFO:tensorflow:global_step/sec: 103.171\n",
      "INFO:tensorflow:loss = 4.26757, step = 9801 (0.969 sec)\n",
      "INFO:tensorflow:global_step/sec: 103.316\n",
      "INFO:tensorflow:loss = 0.445262, step = 9901 (0.968 sec)\n",
      "INFO:tensorflow:global_step/sec: 103.557\n",
      "INFO:tensorflow:loss = 0.0942352, step = 10001 (0.965 sec)\n",
      "INFO:tensorflow:global_step/sec: 99.4071\n",
      "INFO:tensorflow:loss = 1.08291, step = 10101 (1.006 sec)\n",
      "INFO:tensorflow:global_step/sec: 100.789\n",
      "INFO:tensorflow:loss = 0.295921, step = 10201 (0.993 sec)\n",
      "INFO:tensorflow:global_step/sec: 99.5702\n",
      "INFO:tensorflow:loss = 1.09551, step = 10301 (1.004 sec)\n",
      "INFO:tensorflow:global_step/sec: 102.171\n",
      "INFO:tensorflow:loss = 0.249999, step = 10401 (0.979 sec)\n",
      "INFO:tensorflow:global_step/sec: 103.092\n",
      "INFO:tensorflow:loss = 0.100182, step = 10501 (0.970 sec)\n",
      "INFO:tensorflow:global_step/sec: 92.2806\n",
      "INFO:tensorflow:loss = 0.299747, step = 10601 (1.084 sec)\n",
      "INFO:tensorflow:global_step/sec: 97.2238\n",
      "INFO:tensorflow:loss = 0.230436, step = 10701 (1.030 sec)\n",
      "INFO:tensorflow:global_step/sec: 103.246\n",
      "INFO:tensorflow:loss = 0.560303, step = 10801 (0.967 sec)\n",
      "INFO:tensorflow:global_step/sec: 100.437\n",
      "INFO:tensorflow:loss = 0.296887, step = 10901 (1.000 sec)\n",
      "INFO:tensorflow:global_step/sec: 99.6749\n",
      "INFO:tensorflow:loss = 0.071278, step = 11001 (1.000 sec)\n",
      "INFO:tensorflow:global_step/sec: 94.6035\n",
      "INFO:tensorflow:loss = 0.195471, step = 11101 (1.057 sec)\n",
      "INFO:tensorflow:global_step/sec: 95.3147\n",
      "INFO:tensorflow:loss = 0.173594, step = 11201 (1.048 sec)\n",
      "INFO:tensorflow:Saving checkpoints for 11285 into /tmp/tmpx2s6kbiq/model.ckpt.\n",
      "INFO:tensorflow:Loss for final step: 0.155211.\n"
     ]
    },
    {
     "data": {
      "text/plain": [
       "<tensorflow.python.estimator.canned.dnn_linear_combined.DNNLinearCombinedRegressor at 0x7f731e1a74a8>"
      ]
     },
     "execution_count": 13,
     "metadata": {},
     "output_type": "execute_result"
    }
   ],
   "source": [
    "m.train(input_fn=input_fn(df_trainx, trainy, num_epochs=5))"
   ]
  },
  {
   "cell_type": "code",
   "execution_count": 14,
   "metadata": {},
   "outputs": [
    {
     "name": "stdout",
     "output_type": "stream",
     "text": [
      "INFO:tensorflow:Starting evaluation at 2017-11-27-05:51:52\n",
      "INFO:tensorflow:Restoring parameters from /tmp/tmpx2s6kbiq/model.ckpt-11285\n",
      "INFO:tensorflow:Finished evaluation at 2017-11-27-05:51:56\n",
      "INFO:tensorflow:Saving dict for global step 11285: average_loss = 0.0232907, global_step = 11285, loss = 0.744273\n"
     ]
    }
   ],
   "source": [
    "results = m.evaluate(input_fn=input_fn(df_testx, testy, shuffle = False, num_threads=1, num_epochs = 1))"
   ]
  },
  {
   "cell_type": "code",
   "execution_count": 15,
   "metadata": {},
   "outputs": [
    {
     "data": {
      "text/plain": [
       "(72220, 56)"
      ]
     },
     "execution_count": 15,
     "metadata": {},
     "output_type": "execute_result"
    }
   ],
   "source": [
    "df_trainx.shape"
   ]
  },
  {
   "cell_type": "code",
   "execution_count": null,
   "metadata": {
    "collapsed": true
   },
   "outputs": [],
   "source": []
  }
 ],
 "metadata": {
  "kernelspec": {
   "display_name": "Python 3",
   "language": "python",
   "name": "python3"
  },
  "language_info": {
   "codemirror_mode": {
    "name": "ipython",
    "version": 3
   },
   "file_extension": ".py",
   "mimetype": "text/x-python",
   "name": "python",
   "nbconvert_exporter": "python",
   "pygments_lexer": "ipython3",
   "version": "3.6.2"
  }
 },
 "nbformat": 4,
 "nbformat_minor": 2
}
