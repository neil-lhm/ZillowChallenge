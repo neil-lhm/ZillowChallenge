{
 "cells": [
  {
   "cell_type": "code",
   "execution_count": 1,
   "metadata": {
    "collapsed": true
   },
   "outputs": [],
   "source": [
    "import tensorflow as tf\n",
    "import pandas as pd\n",
    "trainFile = \"train_2016_v2.csv\"\n",
    "df_train = pd.read_csv(trainFile, header = 0, skipinitialspace=True, engine=\"python\", \n",
    "                       parse_dates=[\"transactiondate\"])"
   ]
  },
  {
   "cell_type": "code",
   "execution_count": 2,
   "metadata": {
    "collapsed": true
   },
   "outputs": [],
   "source": [
    "propertiesFile = \"properties_2016.csv\"\n",
    "# use float dtype to handle na in pandas\n",
    "columnDtypes = {'parcelid':int, 'airconditioningtypeid':str, 'architecturalstyletypeid':str, 'basementsqft':float,\n",
    "                'bathroomcnt':float, 'bedroomcnt':float, 'buildingclasstypeid':str, 'buildingqualitytypeid':str,\n",
    "                'calculatedbathnbr':float, 'decktypeid':str, 'finishedfloor1squarefeet':float, 'calculatedfinishedsquarefeet':float,\n",
    "                'finishedsquarefeet12':float, 'finishedsquarefeet13':float, 'finishedsquarefeet15':float, 'finishedsquarefeet50':float,\n",
    "                'finishedsquarefeet6':float, 'fips':str, 'fireplacecnt':float, 'fullbathcnt':float, 'garagecarcnt':float, 'garagetotalsqft':float,\n",
    "                'hashottuborspa':str, 'heatingorsystemtypeid':str, 'latitude':float, 'longitude':float, 'lotsizesquarefeet':float, 'poolcnt':float,\n",
    "                'poolsizesum':float, 'pooltypeid10':str, 'pooltypeid2':str, 'pooltypeid7':str, 'propertycountylandusecode':str,\n",
    "                'propertylandusetypeid':str, 'propertyzoningdesc':str, 'rawcensustractandblock':float, 'regionidcity':str,\n",
    "                'regionidcounty':str, 'regionidneighborhood':str, 'regionidzip':str, 'roomcnt':float, 'storytypeid':float,\n",
    "                'threequarterbathnbr': float, 'typeconstructiontypeid':float, 'unitcnt':float, 'yardbuildingsqft17':float,\n",
    "                'yardbuildingsqft26':float, 'yearbuilt':float, 'numberofstories': float, 'fireplaceflag':str, 'structuretaxvaluedollarcnt':float,\n",
    "                'taxvaluedollarcnt': float, 'assessmentyear':float, 'landtaxvaluedollarcnt': float, 'taxamount':float, 'taxdelinquencyflag':str,\n",
    "                'taxdelinquencyyear': float, 'censustractandblock':float}\n",
    "df_properties = pd.read_csv(propertiesFile, header = 0, skipinitialspace=True, dtype=columnDtypes, \n",
    "                            engine=\"c\")"
   ]
  },
  {
   "cell_type": "code",
   "execution_count": 3,
   "metadata": {
    "collapsed": true
   },
   "outputs": [],
   "source": [
    "# apply label encoder on properties\n",
    "from sklearn.preprocessing import LabelEncoder\n",
    "for column in df_properties.columns:\n",
    "    df_properties[column] = df_properties[column].fillna(-1)\n",
    "    if 'object' == df_properties[column].dtype:\n",
    "        labelEncoder = LabelEncoder()\n",
    "        target = list(df_properties[column].values)\n",
    "        labelEncoder.fit(target)\n",
    "        df_properties[column] = labelEncoder.transform(target)"
   ]
  },
  {
   "cell_type": "code",
   "execution_count": 4,
   "metadata": {
    "collapsed": true
   },
   "outputs": [],
   "source": [
    "inter = pd.merge(df_properties, df_train, how=\"inner\", on=[\"parcelid\"]);\n",
    "inter.shape;"
   ]
  },
  {
   "cell_type": "code",
   "execution_count": 5,
   "metadata": {
    "collapsed": true
   },
   "outputs": [],
   "source": [
    "inter['transactiondate'] = pd.to_datetime(df_train[\"transactiondate\"])\n",
    "inter['transaction_year'] = inter['transactiondate'].dt.year\n",
    "inter['transaction_month'] = inter['transactiondate'].dt.month\n",
    "inter['transaction_day'] = inter['transactiondate'].dt.day"
   ]
  },
  {
   "cell_type": "code",
   "execution_count": 6,
   "metadata": {
    "collapsed": true
   },
   "outputs": [],
   "source": [
    "import numpy as np\n",
    "np.random.seed(1)\n",
    "datasetSize = inter.shape[0]\n",
    "trainRatio = .8\n",
    "trainIndex = set(np.random.choice(datasetSize, int(datasetSize * trainRatio), replace=False))\n",
    "testIndex = set(range(datasetSize)) - trainIndex\n",
    "# cast to list to indexing dataframe\n",
    "trainIndex = list(trainIndex)\n",
    "testIndex = list(testIndex)"
   ]
  },
  {
   "cell_type": "code",
   "execution_count": 7,
   "metadata": {
    "collapsed": true
   },
   "outputs": [],
   "source": [
    "columns_to_drop = [\n",
    "    'parcelid', 'logerror', 'transactiondate', 'propertyzoningdesc', \n",
    "    'propertycountylandusecode','fireplacecnt', 'fireplaceflag'\n",
    "]\n",
    "\n",
    "df_trainx = inter.iloc[trainIndex]\n",
    "trainy = df_trainx['logerror'].astype(float)\n",
    "df_trainx = df_trainx.drop(columns_to_drop, axis=1)\n",
    "df_testx = inter.iloc[testIndex]\n",
    "testy = df_testx['logerror'].astype(float)\n",
    "df_testx = df_testx.drop(columns_to_drop, axis=1)"
   ]
  },
  {
   "cell_type": "code",
   "execution_count": 8,
   "metadata": {
    "collapsed": true
   },
   "outputs": [],
   "source": [
    "from sklearn.preprocessing import MinMaxScaler\n",
    "standardScaler = MinMaxScaler()\n",
    "df_trainx.iloc[::] = standardScaler.fit_transform(df_trainx.iloc[::])\n",
    "df_testx.iloc[::] = standardScaler.transform(df_testx.iloc[::])"
   ]
  },
  {
   "cell_type": "code",
   "execution_count": 9,
   "metadata": {
    "collapsed": true
   },
   "outputs": [],
   "source": [
    "def input_fn(df_trainx, trainy, num_epochs, shuffle=True, batch_size=32, num_threads=1):\n",
    "    return tf.estimator.inputs.pandas_input_fn(\n",
    "        x=df_trainx,\n",
    "        y=trainy,\n",
    "        batch_size=batch_size,\n",
    "        num_epochs=num_epochs,\n",
    "        shuffle=shuffle,\n",
    "        num_threads=num_threads)"
   ]
  },
  {
   "cell_type": "code",
   "execution_count": 10,
   "metadata": {
    "collapsed": true
   },
   "outputs": [],
   "source": [
    "def build_model_columns():\n",
    "\n",
    "    airconditioningtypeid = tf.feature_column.numeric_column(\"airconditioningtypeid\")\n",
    "    architecturalstyletypeid = tf.feature_column.numeric_column(\"architecturalstyletypeid\")\n",
    "    basementsqft = tf.feature_column.numeric_column(\"basementsqft\")\n",
    "    bathroomcnt = tf.feature_column.numeric_column(\"bathroomcnt\")\n",
    "    bedroomcnt = tf.feature_column.numeric_column(\"bedroomcnt\")\n",
    "    buildingclasstypeid = tf.feature_column.numeric_column(\"buildingclasstypeid\")\n",
    "    buildingqualitytypeid = tf.feature_column.numeric_column(\"buildingqualitytypeid\")\n",
    "    calculatedbathnbr = tf.feature_column.numeric_column(\"calculatedbathnbr\")\n",
    "    decktypeid = tf.feature_column.numeric_column(\"decktypeid\")\n",
    "    finishedfloor1squarefeet = tf.feature_column.numeric_column(\"finishedfloor1squarefeet\")\n",
    "    calculatedfinishedsquarefeet = tf.feature_column.numeric_column(\"calculatedfinishedsquarefeet\")\n",
    "    finishedsquarefeet12 = tf.feature_column.numeric_column(\"finishedsquarefeet12\")\n",
    "    finishedsquarefeet13 = tf.feature_column.numeric_column(\"finishedsquarefeet13\")\n",
    "    finishedsquarefeet15 = tf.feature_column.numeric_column(\"finishedsquarefeet15\")\n",
    "    finishedsquarefeet50 = tf.feature_column.numeric_column(\"finishedsquarefeet50\")\n",
    "    finishedsquarefeet6 = tf.feature_column.numeric_column(\"finishedsquarefeet6\")\n",
    "    fips = tf.feature_column.numeric_column(\"fips\")\n",
    "    fullbathcnt = tf.feature_column.numeric_column(\"fullbathcnt\")\n",
    "    garagecarcnt = tf.feature_column.numeric_column(\"garagecarcnt\")\n",
    "    garagetotalsqft = tf.feature_column.numeric_column(\"garagetotalsqft\")\n",
    "    hashottuborspa = tf.feature_column.numeric_column(\"hashottuborspa\")\n",
    "    heatingorsystemtypeid = tf.feature_column.numeric_column(\"heatingorsystemtypeid\")\n",
    "    latitude = tf.feature_column.numeric_column(\"latitude\")\n",
    "    longitude = tf.feature_column.numeric_column(\"longitude\")\n",
    "    lotsizesquarefeet = tf.feature_column.numeric_column(\"lotsizesquarefeet\")\n",
    "    poolcnt = tf.feature_column.numeric_column(\"poolcnt\")\n",
    "    poolsizesum = tf.feature_column.numeric_column(\"poolsizesum\")\n",
    "    pooltypeid10 = tf.feature_column.numeric_column(\"pooltypeid10\")\n",
    "    pooltypeid2 = tf.feature_column.numeric_column(\"pooltypeid2\")\n",
    "    pooltypeid7 = tf.feature_column.numeric_column(\"pooltypeid7\")\n",
    "    propertylandusetypeid = tf.feature_column.numeric_column(\"propertylandusetypeid\")\n",
    "    rawcensustractandblock = tf.feature_column.numeric_column(\"rawcensustractandblock\")\n",
    "    regionidcity = tf.feature_column.numeric_column(\"regionidcity\")\n",
    "    regionidcounty = tf.feature_column.numeric_column(\"regionidcounty\")\n",
    "    regionidneighborhood = tf.feature_column.numeric_column(\"regionidneighborhood\")\n",
    "    regionidzip = tf.feature_column.numeric_column(\"regionidzip\")\n",
    "    roomcnt = tf.feature_column.numeric_column(\"roomcnt\")\n",
    "    storytypeid = tf.feature_column.numeric_column(\"storytypeid\")\n",
    "    threequarterbathnbr = tf.feature_column.numeric_column(\"threequarterbathnbr\")\n",
    "    typeconstructiontypeid = tf.feature_column.numeric_column(\"typeconstructiontypeid\")\n",
    "    unitcnt = tf.feature_column.numeric_column(\"unitcnt\")\n",
    "    yardbuildingsqft17 = tf.feature_column.numeric_column(\"yardbuildingsqft17\")\n",
    "    yardbuildingsqft26 = tf.feature_column.numeric_column(\"yardbuildingsqft26\")\n",
    "    yearbuilt = tf.feature_column.numeric_column(\"yearbuilt\")\n",
    "    numberofstories = tf.feature_column.numeric_column(\"numberofstories\")\n",
    "    structuretaxvaluedollarcnt = tf.feature_column.numeric_column(\"structuretaxvaluedollarcnt\")\n",
    "    taxvaluedollarcnt = tf.feature_column.numeric_column(\"taxvaluedollarcnt\")\n",
    "    assessmentyear = tf.feature_column.numeric_column(\"assessmentyear\")\n",
    "    landtaxvaluedollarcnt = tf.feature_column.numeric_column(\"landtaxvaluedollarcnt\")\n",
    "    taxamount = tf.feature_column.numeric_column(\"taxamount\")\n",
    "    taxdelinquencyflag = tf.feature_column.numeric_column(\"taxdelinquencyflag\")\n",
    "    taxdelinquencyyear = tf.feature_column.numeric_column(\"taxdelinquencyyear\")\n",
    "    censustractandblock = tf.feature_column.numeric_column(\"censustractandblock\")\n",
    "    transaction_year = tf.feature_column.numeric_column(\"transaction_year\")\n",
    "    transaction_month = tf.feature_column.numeric_column(\"transaction_month\")\n",
    "    transaction_day = tf.feature_column.numeric_column(\"transaction_day\")\n",
    "\n",
    "    numeric_features = [\n",
    "        airconditioningtypeid, architecturalstyletypeid, basementsqft,\n",
    "        bathroomcnt, bedroomcnt, buildingclasstypeid,\n",
    "        buildingqualitytypeid, calculatedbathnbr, decktypeid,\n",
    "        finishedfloor1squarefeet, calculatedfinishedsquarefeet,\n",
    "        finishedsquarefeet12, finishedsquarefeet13, finishedsquarefeet15,\n",
    "        finishedsquarefeet50, finishedsquarefeet6, fips, fullbathcnt,\n",
    "        garagecarcnt, garagetotalsqft, hashottuborspa,\n",
    "        heatingorsystemtypeid, latitude, longitude, lotsizesquarefeet,\n",
    "        poolcnt, poolsizesum, pooltypeid10, pooltypeid2, pooltypeid7,\n",
    "        propertylandusetypeid, rawcensustractandblock, regionidcity,\n",
    "        regionidcounty, regionidneighborhood, regionidzip, roomcnt,\n",
    "        storytypeid, threequarterbathnbr, typeconstructiontypeid,\n",
    "        unitcnt, yardbuildingsqft17, yardbuildingsqft26, yearbuilt,\n",
    "        numberofstories, structuretaxvaluedollarcnt, taxvaluedollarcnt,\n",
    "        assessmentyear, landtaxvaluedollarcnt, taxamount,\n",
    "        taxdelinquencyflag, taxdelinquencyyear, censustractandblock,\n",
    "        transaction_year, transaction_month, transaction_day\n",
    "    ]\n",
    "    \n",
    "    return numeric_features"
   ]
  },
  {
   "cell_type": "code",
   "execution_count": 28,
   "metadata": {
    "collapsed": true
   },
   "outputs": [],
   "source": [
    "def build_estimator(model_dir, model_type):\n",
    "    numeric_features = build_model_columns()\n",
    "    hidden_units = [1024, 512, 256, 128]\n",
    "\n",
    "    if model_type == 'wide':\n",
    "        return tf.estimator.LinearRegressor(\n",
    "                model_dir=model_dir,\n",
    "                feature_columns=numeric_features)\n",
    "    elif model_type == 'deep':\n",
    "        return tf.estimator.DNNRegressor(\n",
    "                model_dir=model_dir,\n",
    "                feature_columns=numeric_features,\n",
    "                hidden_units=hidden_units,\n",
    "                dropout=0.5)\n",
    "    else:\n",
    "        return tf.estimator.DNNLinearCombinedRegressor(\n",
    "                model_dir=model_dir,\n",
    "                linear_feature_columns=numeric_features,\n",
    "                dnn_feature_columns=numeric_features,\n",
    "                dnn_hidden_units=hidden_units,\n",
    "                dnn_dropout=0.5)"
   ]
  },
  {
   "cell_type": "code",
   "execution_count": 56,
   "metadata": {},
   "outputs": [
    {
     "name": "stdout",
     "output_type": "stream",
     "text": [
      "INFO:tensorflow:Using default config.\n",
      "INFO:tensorflow:Using config: {'_model_dir': '/var/folders/dx/pz80lsmn42xftdx1wckt0zh00000gn/T/tmp98kv66i8', '_tf_random_seed': 1, '_save_summary_steps': 100, '_save_checkpoints_secs': 600, '_save_checkpoints_steps': None, '_session_config': None, '_keep_checkpoint_max': 5, '_keep_checkpoint_every_n_hours': 10000, '_log_step_count_steps': 100}\n"
     ]
    }
   ],
   "source": [
    "import tempfile\n",
    "model_dir = tempfile.mkdtemp()\n",
    "m = build_estimator(model_dir, 'combined')"
   ]
  },
  {
   "cell_type": "code",
   "execution_count": 57,
   "metadata": {
    "scrolled": true
   },
   "outputs": [
    {
     "name": "stdout",
     "output_type": "stream",
     "text": [
      "INFO:tensorflow:Create CheckpointSaverHook.\n",
      "INFO:tensorflow:Saving checkpoints for 1 into /var/folders/dx/pz80lsmn42xftdx1wckt0zh00000gn/T/tmp98kv66i8/model.ckpt.\n",
      "INFO:tensorflow:loss = 1.4839, step = 1\n",
      "INFO:tensorflow:global_step/sec: 48.6196\n",
      "INFO:tensorflow:loss = 0.525507, step = 101 (2.058 sec)\n",
      "INFO:tensorflow:global_step/sec: 57.3122\n",
      "INFO:tensorflow:loss = 1.27952, step = 201 (1.745 sec)\n",
      "INFO:tensorflow:global_step/sec: 53.8046\n",
      "INFO:tensorflow:loss = 1.87502, step = 301 (1.859 sec)\n",
      "INFO:tensorflow:global_step/sec: 55.416\n",
      "INFO:tensorflow:loss = 0.329405, step = 401 (1.805 sec)\n",
      "INFO:tensorflow:global_step/sec: 56.5202\n",
      "INFO:tensorflow:loss = 1.6917, step = 501 (1.769 sec)\n",
      "INFO:tensorflow:global_step/sec: 54.02\n",
      "INFO:tensorflow:loss = 1.90348, step = 601 (1.851 sec)\n",
      "INFO:tensorflow:global_step/sec: 54.9276\n",
      "INFO:tensorflow:loss = 0.22275, step = 701 (1.820 sec)\n",
      "INFO:tensorflow:global_step/sec: 56.3697\n",
      "INFO:tensorflow:loss = 0.182214, step = 801 (1.774 sec)\n",
      "INFO:tensorflow:global_step/sec: 57.4943\n",
      "INFO:tensorflow:loss = 0.21635, step = 901 (1.739 sec)\n",
      "INFO:tensorflow:global_step/sec: 56.8905\n",
      "INFO:tensorflow:loss = 0.683961, step = 1001 (1.758 sec)\n",
      "INFO:tensorflow:global_step/sec: 55.4768\n",
      "INFO:tensorflow:loss = 1.78012, step = 1101 (1.803 sec)\n",
      "INFO:tensorflow:global_step/sec: 57.3841\n",
      "INFO:tensorflow:loss = 0.16594, step = 1201 (1.743 sec)\n",
      "INFO:tensorflow:global_step/sec: 58.0677\n",
      "INFO:tensorflow:loss = 0.141575, step = 1301 (1.722 sec)\n",
      "INFO:tensorflow:global_step/sec: 60.4119\n",
      "INFO:tensorflow:loss = 0.247966, step = 1401 (1.655 sec)\n",
      "INFO:tensorflow:global_step/sec: 57.9379\n",
      "INFO:tensorflow:loss = 4.03415, step = 1501 (1.726 sec)\n",
      "INFO:tensorflow:global_step/sec: 60.7194\n",
      "INFO:tensorflow:loss = 0.534619, step = 1601 (1.647 sec)\n",
      "INFO:tensorflow:global_step/sec: 63.4779\n",
      "INFO:tensorflow:loss = 0.426222, step = 1701 (1.575 sec)\n",
      "INFO:tensorflow:global_step/sec: 64.4217\n",
      "INFO:tensorflow:loss = 1.19332, step = 1801 (1.552 sec)\n",
      "INFO:tensorflow:global_step/sec: 59.4292\n",
      "INFO:tensorflow:loss = 0.234252, step = 1901 (1.683 sec)\n",
      "INFO:tensorflow:global_step/sec: 61.8918\n",
      "INFO:tensorflow:loss = 0.539013, step = 2001 (1.616 sec)\n",
      "INFO:tensorflow:global_step/sec: 58.4953\n",
      "INFO:tensorflow:loss = 0.215691, step = 2101 (1.709 sec)\n",
      "INFO:tensorflow:global_step/sec: 57.0271\n",
      "INFO:tensorflow:loss = 0.156823, step = 2201 (1.754 sec)\n",
      "INFO:tensorflow:global_step/sec: 56.9368\n",
      "INFO:tensorflow:loss = 0.316595, step = 2301 (1.756 sec)\n",
      "INFO:tensorflow:global_step/sec: 57.9619\n",
      "INFO:tensorflow:loss = 0.206825, step = 2401 (1.725 sec)\n",
      "INFO:tensorflow:global_step/sec: 58.2427\n",
      "INFO:tensorflow:loss = 1.78533, step = 2501 (1.717 sec)\n",
      "INFO:tensorflow:global_step/sec: 59.0485\n",
      "INFO:tensorflow:loss = 0.202074, step = 2601 (1.694 sec)\n",
      "INFO:tensorflow:global_step/sec: 59.0225\n",
      "INFO:tensorflow:loss = 2.26883, step = 2701 (1.694 sec)\n",
      "INFO:tensorflow:global_step/sec: 56.7187\n",
      "INFO:tensorflow:loss = 0.0801457, step = 2801 (1.763 sec)\n",
      "INFO:tensorflow:global_step/sec: 59.3226\n",
      "INFO:tensorflow:loss = 1.18621, step = 2901 (1.685 sec)\n",
      "INFO:tensorflow:global_step/sec: 57.0198\n",
      "INFO:tensorflow:loss = 0.238096, step = 3001 (1.754 sec)\n",
      "INFO:tensorflow:global_step/sec: 58.1177\n",
      "INFO:tensorflow:loss = 0.469926, step = 3101 (1.721 sec)\n",
      "INFO:tensorflow:global_step/sec: 56.2289\n",
      "INFO:tensorflow:loss = 0.386021, step = 3201 (1.779 sec)\n",
      "INFO:tensorflow:global_step/sec: 57.9613\n",
      "INFO:tensorflow:loss = 0.129217, step = 3301 (1.725 sec)\n",
      "INFO:tensorflow:global_step/sec: 57.3176\n",
      "INFO:tensorflow:loss = 1.10775, step = 3401 (1.745 sec)\n",
      "INFO:tensorflow:global_step/sec: 62.2699\n",
      "INFO:tensorflow:loss = 0.175912, step = 3501 (1.606 sec)\n",
      "INFO:tensorflow:global_step/sec: 56.6809\n",
      "INFO:tensorflow:loss = 1.31504, step = 3601 (1.764 sec)\n",
      "INFO:tensorflow:global_step/sec: 55.3313\n",
      "INFO:tensorflow:loss = 3.19636, step = 3701 (1.811 sec)\n",
      "INFO:tensorflow:global_step/sec: 53.731\n",
      "INFO:tensorflow:loss = 1.14415, step = 3801 (1.858 sec)\n",
      "INFO:tensorflow:global_step/sec: 56.5227\n",
      "INFO:tensorflow:loss = 0.889673, step = 3901 (1.769 sec)\n",
      "INFO:tensorflow:global_step/sec: 54.4515\n",
      "INFO:tensorflow:loss = 0.219855, step = 4001 (1.836 sec)\n",
      "INFO:tensorflow:global_step/sec: 54.5948\n",
      "INFO:tensorflow:loss = 0.735597, step = 4101 (1.832 sec)\n",
      "INFO:tensorflow:global_step/sec: 57.925\n",
      "INFO:tensorflow:loss = 0.221401, step = 4201 (1.726 sec)\n",
      "INFO:tensorflow:global_step/sec: 59.1691\n",
      "INFO:tensorflow:loss = 0.953245, step = 4301 (1.690 sec)\n",
      "INFO:tensorflow:global_step/sec: 56.4431\n",
      "INFO:tensorflow:loss = 0.167471, step = 4401 (1.772 sec)\n",
      "INFO:tensorflow:global_step/sec: 56.8347\n",
      "INFO:tensorflow:loss = 1.40529, step = 4501 (1.760 sec)\n",
      "INFO:tensorflow:global_step/sec: 54.9966\n",
      "INFO:tensorflow:loss = 0.582119, step = 4601 (1.818 sec)\n",
      "INFO:tensorflow:global_step/sec: 55.6908\n",
      "INFO:tensorflow:loss = 0.177946, step = 4701 (1.796 sec)\n",
      "INFO:tensorflow:global_step/sec: 60.8275\n",
      "INFO:tensorflow:loss = 0.500834, step = 4801 (1.644 sec)\n",
      "INFO:tensorflow:global_step/sec: 52.3161\n",
      "INFO:tensorflow:loss = 0.192723, step = 4901 (1.914 sec)\n",
      "INFO:tensorflow:global_step/sec: 50.5903\n",
      "INFO:tensorflow:loss = 0.089362, step = 5001 (1.974 sec)\n",
      "INFO:tensorflow:global_step/sec: 52.0503\n",
      "INFO:tensorflow:loss = 0.0726425, step = 5101 (1.921 sec)\n",
      "INFO:tensorflow:global_step/sec: 56.5759\n",
      "INFO:tensorflow:loss = 0.0762669, step = 5201 (1.767 sec)\n",
      "INFO:tensorflow:global_step/sec: 55.8219\n",
      "INFO:tensorflow:loss = 1.03946, step = 5301 (1.793 sec)\n",
      "INFO:tensorflow:global_step/sec: 48.614\n",
      "INFO:tensorflow:loss = 0.357947, step = 5401 (2.057 sec)\n",
      "INFO:tensorflow:global_step/sec: 50.7984\n",
      "INFO:tensorflow:loss = 2.63007, step = 5501 (1.967 sec)\n",
      "INFO:tensorflow:global_step/sec: 52.7893\n",
      "INFO:tensorflow:loss = 2.30788, step = 5601 (1.896 sec)\n",
      "INFO:tensorflow:global_step/sec: 59.2692\n",
      "INFO:tensorflow:loss = 1.00446, step = 5701 (1.685 sec)\n",
      "INFO:tensorflow:global_step/sec: 58.0836\n",
      "INFO:tensorflow:loss = 0.359412, step = 5801 (1.722 sec)\n",
      "INFO:tensorflow:global_step/sec: 58.4605\n",
      "INFO:tensorflow:loss = 0.286734, step = 5901 (1.710 sec)\n",
      "INFO:tensorflow:global_step/sec: 56.998\n",
      "INFO:tensorflow:loss = 0.277681, step = 6001 (1.755 sec)\n",
      "INFO:tensorflow:global_step/sec: 56.1919\n",
      "INFO:tensorflow:loss = 9.05444, step = 6101 (1.780 sec)\n",
      "INFO:tensorflow:global_step/sec: 56.3674\n",
      "INFO:tensorflow:loss = 0.103123, step = 6201 (1.774 sec)\n",
      "INFO:tensorflow:global_step/sec: 57.3179\n",
      "INFO:tensorflow:loss = 0.238313, step = 6301 (1.745 sec)\n",
      "INFO:tensorflow:global_step/sec: 57.636\n",
      "INFO:tensorflow:loss = 2.2076, step = 6401 (1.735 sec)\n",
      "INFO:tensorflow:global_step/sec: 55.2743\n",
      "INFO:tensorflow:loss = 7.66327, step = 6501 (1.810 sec)\n",
      "INFO:tensorflow:global_step/sec: 57.7421\n",
      "INFO:tensorflow:loss = 0.108262, step = 6601 (1.731 sec)\n",
      "INFO:tensorflow:global_step/sec: 56.0916\n",
      "INFO:tensorflow:loss = 0.519343, step = 6701 (1.783 sec)\n",
      "INFO:tensorflow:global_step/sec: 58.1274\n",
      "INFO:tensorflow:loss = 0.348509, step = 6801 (1.721 sec)\n",
      "INFO:tensorflow:global_step/sec: 54.2089\n",
      "INFO:tensorflow:loss = 0.121737, step = 6901 (1.845 sec)\n",
      "INFO:tensorflow:global_step/sec: 48.6243\n",
      "INFO:tensorflow:loss = 0.575556, step = 7001 (2.057 sec)\n",
      "INFO:tensorflow:global_step/sec: 53.7234\n",
      "INFO:tensorflow:loss = 0.505918, step = 7101 (1.860 sec)\n",
      "INFO:tensorflow:global_step/sec: 56.4794\n",
      "INFO:tensorflow:loss = 0.346285, step = 7201 (1.771 sec)\n",
      "INFO:tensorflow:global_step/sec: 54.9937\n",
      "INFO:tensorflow:loss = 0.184136, step = 7301 (1.818 sec)\n",
      "INFO:tensorflow:global_step/sec: 56.5742\n",
      "INFO:tensorflow:loss = 0.773782, step = 7401 (1.768 sec)\n",
      "INFO:tensorflow:global_step/sec: 59.4848\n",
      "INFO:tensorflow:loss = 0.083449, step = 7501 (1.681 sec)\n",
      "INFO:tensorflow:global_step/sec: 62.8288\n",
      "INFO:tensorflow:loss = 0.288049, step = 7601 (1.592 sec)\n",
      "INFO:tensorflow:global_step/sec: 56.3691\n",
      "INFO:tensorflow:loss = 3.40589, step = 7701 (1.774 sec)\n",
      "INFO:tensorflow:global_step/sec: 59.1753\n",
      "INFO:tensorflow:loss = 0.0891105, step = 7801 (1.690 sec)\n",
      "INFO:tensorflow:global_step/sec: 58.8567\n",
      "INFO:tensorflow:loss = 0.468922, step = 7901 (1.699 sec)\n",
      "INFO:tensorflow:global_step/sec: 55.9931\n",
      "INFO:tensorflow:loss = 0.573694, step = 8001 (1.786 sec)\n",
      "INFO:tensorflow:global_step/sec: 58.6933\n",
      "INFO:tensorflow:loss = 0.16713, step = 8101 (1.704 sec)\n",
      "INFO:tensorflow:global_step/sec: 58.5619\n",
      "INFO:tensorflow:loss = 0.104073, step = 8201 (1.708 sec)\n"
     ]
    },
    {
     "name": "stdout",
     "output_type": "stream",
     "text": [
      "INFO:tensorflow:global_step/sec: 58.3306\n",
      "INFO:tensorflow:loss = 0.216125, step = 8301 (1.714 sec)\n",
      "INFO:tensorflow:global_step/sec: 56.9943\n",
      "INFO:tensorflow:loss = 0.272869, step = 8401 (1.755 sec)\n",
      "INFO:tensorflow:global_step/sec: 55.8901\n",
      "INFO:tensorflow:loss = 0.260464, step = 8501 (1.792 sec)\n",
      "INFO:tensorflow:global_step/sec: 53.4843\n",
      "INFO:tensorflow:loss = 0.325171, step = 8601 (1.868 sec)\n",
      "INFO:tensorflow:global_step/sec: 51.3213\n",
      "INFO:tensorflow:loss = 10.9186, step = 8701 (1.948 sec)\n",
      "INFO:tensorflow:global_step/sec: 48.4702\n",
      "INFO:tensorflow:loss = 0.234109, step = 8801 (2.063 sec)\n",
      "INFO:tensorflow:global_step/sec: 57.8408\n",
      "INFO:tensorflow:loss = 0.484337, step = 8901 (1.729 sec)\n",
      "INFO:tensorflow:global_step/sec: 56.534\n",
      "INFO:tensorflow:loss = 0.180629, step = 9001 (1.769 sec)\n",
      "INFO:tensorflow:global_step/sec: 55.4734\n",
      "INFO:tensorflow:loss = 0.704793, step = 9101 (1.804 sec)\n",
      "INFO:tensorflow:global_step/sec: 57.1951\n",
      "INFO:tensorflow:loss = 0.395432, step = 9201 (1.748 sec)\n",
      "INFO:tensorflow:global_step/sec: 55.6439\n",
      "INFO:tensorflow:loss = 1.4172, step = 9301 (1.796 sec)\n",
      "INFO:tensorflow:global_step/sec: 58.6966\n",
      "INFO:tensorflow:loss = 0.248673, step = 9401 (1.704 sec)\n",
      "INFO:tensorflow:global_step/sec: 54.9975\n",
      "INFO:tensorflow:loss = 0.568021, step = 9501 (1.819 sec)\n",
      "INFO:tensorflow:global_step/sec: 54.5317\n",
      "INFO:tensorflow:loss = 0.0990199, step = 9601 (1.834 sec)\n",
      "INFO:tensorflow:global_step/sec: 52.3205\n",
      "INFO:tensorflow:loss = 0.361016, step = 9701 (1.912 sec)\n",
      "INFO:tensorflow:global_step/sec: 48.5679\n",
      "INFO:tensorflow:loss = 0.342847, step = 9801 (2.058 sec)\n",
      "INFO:tensorflow:global_step/sec: 49.559\n",
      "INFO:tensorflow:loss = 0.13276, step = 9901 (2.018 sec)\n",
      "INFO:tensorflow:global_step/sec: 49.8033\n",
      "INFO:tensorflow:loss = 0.160164, step = 10001 (2.010 sec)\n",
      "INFO:tensorflow:global_step/sec: 51.3519\n",
      "INFO:tensorflow:loss = 0.444778, step = 10101 (1.944 sec)\n",
      "INFO:tensorflow:global_step/sec: 57.8737\n",
      "INFO:tensorflow:loss = 0.36999, step = 10201 (1.728 sec)\n",
      "INFO:tensorflow:global_step/sec: 57.0671\n",
      "INFO:tensorflow:loss = 0.984557, step = 10301 (1.752 sec)\n",
      "INFO:tensorflow:global_step/sec: 61.9905\n",
      "INFO:tensorflow:loss = 5.50933, step = 10401 (1.613 sec)\n",
      "INFO:tensorflow:global_step/sec: 58.861\n",
      "INFO:tensorflow:loss = 0.0648535, step = 10501 (1.699 sec)\n",
      "INFO:tensorflow:global_step/sec: 58.0989\n",
      "INFO:tensorflow:loss = 14.373, step = 10601 (1.721 sec)\n",
      "INFO:tensorflow:global_step/sec: 57.2863\n",
      "INFO:tensorflow:loss = 0.900909, step = 10701 (1.746 sec)\n",
      "INFO:tensorflow:global_step/sec: 56.9892\n",
      "INFO:tensorflow:loss = 0.294294, step = 10801 (1.755 sec)\n",
      "INFO:tensorflow:global_step/sec: 56.5484\n",
      "INFO:tensorflow:loss = 1.82855, step = 10901 (1.768 sec)\n",
      "INFO:tensorflow:global_step/sec: 62.2013\n",
      "INFO:tensorflow:loss = 0.297587, step = 11001 (1.608 sec)\n",
      "INFO:tensorflow:global_step/sec: 57.307\n",
      "INFO:tensorflow:loss = 0.150636, step = 11101 (1.745 sec)\n",
      "INFO:tensorflow:global_step/sec: 56.6611\n",
      "INFO:tensorflow:loss = 0.73908, step = 11201 (1.765 sec)\n",
      "INFO:tensorflow:Saving checkpoints for 11285 into /var/folders/dx/pz80lsmn42xftdx1wckt0zh00000gn/T/tmp98kv66i8/model.ckpt.\n",
      "INFO:tensorflow:Loss for final step: 0.0307863.\n"
     ]
    },
    {
     "data": {
      "text/plain": [
       "<tensorflow.python.estimator.canned.dnn_linear_combined.DNNLinearCombinedRegressor at 0x125377da0>"
      ]
     },
     "execution_count": 57,
     "metadata": {},
     "output_type": "execute_result"
    }
   ],
   "source": [
    "m.train(input_fn=input_fn(df_trainx, trainy, num_epochs=5))"
   ]
  },
  {
   "cell_type": "code",
   "execution_count": 58,
   "metadata": {
    "collapsed": true
   },
   "outputs": [],
   "source": [
    "# results = m.evaluate(input_fn=input_fn(df_testx, testy, shuffle = False, num_threads=1, num_epochs = 1))"
   ]
  },
  {
   "cell_type": "code",
   "execution_count": 59,
   "metadata": {},
   "outputs": [
    {
     "name": "stdout",
     "output_type": "stream",
     "text": [
      "INFO:tensorflow:Restoring parameters from /var/folders/dx/pz80lsmn42xftdx1wckt0zh00000gn/T/tmp98kv66i8/model.ckpt-11285\n"
     ]
    }
   ],
   "source": [
    "y_pred = list(m.predict(input_fn=input_fn(df_testx, testy, shuffle = False, num_threads=1, num_epochs = 1)))"
   ]
  },
  {
   "cell_type": "code",
   "execution_count": 60,
   "metadata": {
    "collapsed": true
   },
   "outputs": [],
   "source": [
    "y_pred = np.array([x[\"predictions\"][0] for x in y_pred])"
   ]
  },
  {
   "cell_type": "code",
   "execution_count": 61,
   "metadata": {
    "collapsed": true
   },
   "outputs": [],
   "source": [
    "from sklearn.metrics import mean_absolute_error\n",
    "mae = mean_absolute_error(y_true=testy, y_pred=y_pred)"
   ]
  },
  {
   "cell_type": "code",
   "execution_count": 62,
   "metadata": {},
   "outputs": [
    {
     "name": "stdout",
     "output_type": "stream",
     "text": [
      "test set mean absolute error is 0.06819810545595786\n"
     ]
    }
   ],
   "source": [
    "print(\"test set mean absolute error is {}\".format(mae))"
   ]
  },
  {
   "cell_type": "code",
   "execution_count": 6,
   "metadata": {
    "collapsed": true
   },
   "outputs": [],
   "source": [
    "with open('xgbresults', 'r') as f:\n",
    "    xgbresults = f.read().split(\"\\n\")[:-1]"
   ]
  },
  {
   "cell_type": "code",
   "execution_count": 9,
   "metadata": {},
   "outputs": [],
   "source": [
    "import numpy as np\n",
    "\n",
    "xgbresults = np.array(xgbresults)"
   ]
  },
  {
   "cell_type": "code",
   "execution_count": 11,
   "metadata": {},
   "outputs": [
    {
     "data": {
      "text/plain": [
       "array([ 0.00397682,  0.0197311 ,  0.01801938, ...,  0.02489141,\n",
       "        0.02957025, -0.03961992])"
      ]
     },
     "execution_count": 11,
     "metadata": {},
     "output_type": "execute_result"
    }
   ],
   "source": [
    "xgbresults.astype(np.float)"
   ]
  },
  {
   "cell_type": "code",
   "execution_count": null,
   "metadata": {
    "collapsed": true
   },
   "outputs": [],
   "source": []
  }
 ],
 "metadata": {
  "kernelspec": {
   "display_name": "Python 3",
   "language": "python",
   "name": "python3"
  },
  "language_info": {
   "codemirror_mode": {
    "name": "ipython",
    "version": 3
   },
   "file_extension": ".py",
   "mimetype": "text/x-python",
   "name": "python",
   "nbconvert_exporter": "python",
   "pygments_lexer": "ipython3",
   "version": "3.6.3"
  }
 },
 "nbformat": 4,
 "nbformat_minor": 2
}
