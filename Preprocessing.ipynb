{
 "cells": [
  {
   "cell_type": "code",
   "execution_count": 1,
   "metadata": {
    "collapsed": true
   },
   "outputs": [],
   "source": [
    "import tensorflow as tf\n",
    "import pandas as pd\n",
    "trainFile = \"train_2016_v2.csv\"\n",
    "df_train = pd.read_csv(trainFile, header = 0, skipinitialspace=True, engine=\"python\", \n",
    "                       parse_dates=[\"transactiondate\"])"
   ]
  },
  {
   "cell_type": "code",
   "execution_count": 2,
   "metadata": {
    "collapsed": true
   },
   "outputs": [],
   "source": [
    "propertiesFile = \"properties_2016.csv\"\n",
    "# use float dtype to handle na in pandas\n",
    "columnDtypes = {'parcelid':int, 'airconditioningtypeid':str, 'architecturalstyletypeid':str, 'basementsqft':float,\n",
    "                'bathroomcnt':float, 'bedroomcnt':float, 'buildingclasstypeid':str, 'buildingqualitytypeid':str,\n",
    "                'calculatedbathnbr':float, 'decktypeid':str, 'finishedfloor1squarefeet':float, 'calculatedfinishedsquarefeet':float,\n",
    "                'finishedsquarefeet12':float, 'finishedsquarefeet13':float, 'finishedsquarefeet15':float, 'finishedsquarefeet50':float,\n",
    "                'finishedsquarefeet6':float, 'fips':str, 'fireplacecnt':float, 'fullbathcnt':float, 'garagecarcnt':float, 'garagetotalsqft':float,\n",
    "                'hashottuborspa':str, 'heatingorsystemtypeid':str, 'latitude':float, 'longitude':float, 'lotsizesquarefeet':float, 'poolcnt':float,\n",
    "                'poolsizesum':float, 'pooltypeid10':str, 'pooltypeid2':str, 'pooltypeid7':str, 'propertycountylandusecode':str,\n",
    "                'propertylandusetypeid':str, 'propertyzoningdesc':str, 'rawcensustractandblock':float, 'regionidcity':str,\n",
    "                'regionidcounty':str, 'regionidneighborhood':str, 'regionidzip':str, 'roomcnt':float, 'storytypeid':float,\n",
    "                'threequarterbathnbr': float, 'typeconstructiontypeid':float, 'unitcnt':float, 'yardbuildingsqft17':float,\n",
    "                'yardbuildingsqft26':float, 'yearbuilt':float, 'numberofstories': float, 'fireplaceflag':str, 'structuretaxvaluedollarcnt':float,\n",
    "                'taxvaluedollarcnt': float, 'assessmentyear':float, 'landtaxvaluedollarcnt': float, 'taxamount':float, 'taxdelinquencyflag':str,\n",
    "                'taxdelinquencyyear': float, 'censustractandblock':float}\n",
    "df_properties = pd.read_csv(propertiesFile, header = 0, skipinitialspace=True, dtype=columnDtypes, \n",
    "                            engine=\"c\")"
   ]
  },
  {
   "cell_type": "code",
   "execution_count": 3,
   "metadata": {
    "collapsed": true
   },
   "outputs": [],
   "source": [
    "# apply label encoder on properties\n",
    "from sklearn.preprocessing import LabelEncoder\n",
    "for column in df_properties.columns:\n",
    "    df_properties[column] = df_properties[column].fillna(-1)\n",
    "    if 'object' == df_properties[column].dtype:\n",
    "        labelEncoder = LabelEncoder()\n",
    "        target = list(df_properties[column].values)\n",
    "        labelEncoder.fit(target)\n",
    "        df_properties[column] = labelEncoder.transform(target)"
   ]
  },
  {
   "cell_type": "code",
   "execution_count": 4,
   "metadata": {
    "collapsed": true
   },
   "outputs": [],
   "source": [
    "inter = pd.merge(df_properties, df_train, how=\"inner\", on=[\"parcelid\"]);\n",
    "inter.shape;"
   ]
  },
  {
   "cell_type": "code",
   "execution_count": 5,
   "metadata": {
    "collapsed": true
   },
   "outputs": [],
   "source": [
    "inter['transactiondate'] = pd.to_datetime(df_train[\"transactiondate\"])\n",
    "inter['transaction_year'] = inter['transactiondate'].dt.year\n",
    "inter['transaction_month'] = inter['transactiondate'].dt.month\n",
    "inter['transaction_day'] = inter['transactiondate'].dt.day"
   ]
  },
  {
   "cell_type": "code",
   "execution_count": 38,
   "metadata": {
    "collapsed": true
   },
   "outputs": [],
   "source": [
    "import numpy as np\n",
    "np.random.seed(1)\n",
    "datasetSize = inter.shape[0]\n",
    "trainRatio = .8\n",
    "trainIndex = set(np.random.choice(datasetSize, int(datasetSize * trainRatio), replace=False))\n",
    "testIndex = set(range(datasetSize)) - trainIndex\n",
    "# cast to list to indexing dataframe\n",
    "trainIndex = list(trainIndex)\n",
    "testIndex = list(testIndex)"
   ]
  },
  {
   "cell_type": "code",
   "execution_count": 39,
   "metadata": {
    "collapsed": true
   },
   "outputs": [],
   "source": [
    "columns_to_drop = [\n",
    "    'parcelid', 'logerror', 'transactiondate', 'propertyzoningdesc', \n",
    "    'propertycountylandusecode','fireplacecnt', 'fireplaceflag'\n",
    "]\n",
    "\n",
    "df_trainx = inter.iloc[trainIndex]\n",
    "trainy = df_trainx['logerror'].astype(float)\n",
    "df_trainx = df_trainx.drop(columns_to_drop, axis=1)\n",
    "df_testx = inter.iloc[testIndex]\n",
    "testy = df_testx['logerror'].astype(float)\n",
    "df_testx = df_testx.drop(columns_to_drop, axis=1)"
   ]
  },
  {
   "cell_type": "code",
   "execution_count": 40,
   "metadata": {
    "collapsed": true
   },
   "outputs": [],
   "source": [
    "from sklearn.preprocessing import MinMaxScaler\n",
    "standardScaler = MinMaxScaler()\n",
    "df_trainx.iloc[::] = standardScaler.fit_transform(df_trainx.iloc[::])\n",
    "df_testx.iloc[::] = standardScaler.transform(df_testx.iloc[::])"
   ]
  },
  {
   "cell_type": "code",
   "execution_count": 72,
   "metadata": {},
   "outputs": [],
   "source": [
    "from sklearn.ensemble import IsolationForest\n",
    "clf = IsolationForest(max_samples = 1024, random_state = 2)\n",
    "train = df_trainx.values\n",
    "clf.fit(train)\n",
    "y_inoutliners = clf.predict(train) \n",
    "y_inoutliners = pd.DataFrame(y_inoutliners, columns=[\"inliners\"])\n",
    "index = y_inoutliners[y_inoutliners[\"inliners\"] == 1].index.values\n",
    "df_trainx = df_trainx.iloc[index]\n",
    "df_trainx.reset_index(drop = True, inplace = True)\n",
    "df_trainx.shape\n",
    "trainy = trainy.iloc[index]\n",
    "trainy.reset_index(drop = True, inplace = True)"
   ]
  },
  {
   "cell_type": "code",
   "execution_count": 73,
   "metadata": {
    "collapsed": true
   },
   "outputs": [],
   "source": [
    "def input_fn(df_trainx, trainy, num_epochs, shuffle=True, batch_size=32, num_threads=1):\n",
    "    return tf.estimator.inputs.pandas_input_fn(\n",
    "        x=df_trainx,\n",
    "        y=trainy,\n",
    "        batch_size=batch_size,\n",
    "        num_epochs=num_epochs,\n",
    "        shuffle=shuffle,\n",
    "        num_threads=num_threads)"
   ]
  },
  {
   "cell_type": "code",
   "execution_count": 74,
   "metadata": {
    "collapsed": true
   },
   "outputs": [],
   "source": [
    "def build_model_columns():\n",
    "\n",
    "    airconditioningtypeid = tf.feature_column.numeric_column(\"airconditioningtypeid\")\n",
    "    architecturalstyletypeid = tf.feature_column.numeric_column(\"architecturalstyletypeid\")\n",
    "    basementsqft = tf.feature_column.numeric_column(\"basementsqft\")\n",
    "    bathroomcnt = tf.feature_column.numeric_column(\"bathroomcnt\")\n",
    "    bedroomcnt = tf.feature_column.numeric_column(\"bedroomcnt\")\n",
    "    buildingclasstypeid = tf.feature_column.numeric_column(\"buildingclasstypeid\")\n",
    "    buildingqualitytypeid = tf.feature_column.numeric_column(\"buildingqualitytypeid\")\n",
    "    calculatedbathnbr = tf.feature_column.numeric_column(\"calculatedbathnbr\")\n",
    "    decktypeid = tf.feature_column.numeric_column(\"decktypeid\")\n",
    "    finishedfloor1squarefeet = tf.feature_column.numeric_column(\"finishedfloor1squarefeet\")\n",
    "    calculatedfinishedsquarefeet = tf.feature_column.numeric_column(\"calculatedfinishedsquarefeet\")\n",
    "    finishedsquarefeet12 = tf.feature_column.numeric_column(\"finishedsquarefeet12\")\n",
    "    finishedsquarefeet13 = tf.feature_column.numeric_column(\"finishedsquarefeet13\")\n",
    "    finishedsquarefeet15 = tf.feature_column.numeric_column(\"finishedsquarefeet15\")\n",
    "    finishedsquarefeet50 = tf.feature_column.numeric_column(\"finishedsquarefeet50\")\n",
    "    finishedsquarefeet6 = tf.feature_column.numeric_column(\"finishedsquarefeet6\")\n",
    "    fips = tf.feature_column.numeric_column(\"fips\")\n",
    "    fullbathcnt = tf.feature_column.numeric_column(\"fullbathcnt\")\n",
    "    garagecarcnt = tf.feature_column.numeric_column(\"garagecarcnt\")\n",
    "    garagetotalsqft = tf.feature_column.numeric_column(\"garagetotalsqft\")\n",
    "    hashottuborspa = tf.feature_column.numeric_column(\"hashottuborspa\")\n",
    "    heatingorsystemtypeid = tf.feature_column.numeric_column(\"heatingorsystemtypeid\")\n",
    "    latitude = tf.feature_column.numeric_column(\"latitude\")\n",
    "    longitude = tf.feature_column.numeric_column(\"longitude\")\n",
    "    lotsizesquarefeet = tf.feature_column.numeric_column(\"lotsizesquarefeet\")\n",
    "    poolcnt = tf.feature_column.numeric_column(\"poolcnt\")\n",
    "    poolsizesum = tf.feature_column.numeric_column(\"poolsizesum\")\n",
    "    pooltypeid10 = tf.feature_column.numeric_column(\"pooltypeid10\")\n",
    "    pooltypeid2 = tf.feature_column.numeric_column(\"pooltypeid2\")\n",
    "    pooltypeid7 = tf.feature_column.numeric_column(\"pooltypeid7\")\n",
    "    propertylandusetypeid = tf.feature_column.numeric_column(\"propertylandusetypeid\")\n",
    "    rawcensustractandblock = tf.feature_column.numeric_column(\"rawcensustractandblock\")\n",
    "    regionidcity = tf.feature_column.numeric_column(\"regionidcity\")\n",
    "    regionidcounty = tf.feature_column.numeric_column(\"regionidcounty\")\n",
    "    regionidneighborhood = tf.feature_column.numeric_column(\"regionidneighborhood\")\n",
    "    regionidzip = tf.feature_column.numeric_column(\"regionidzip\")\n",
    "    roomcnt = tf.feature_column.numeric_column(\"roomcnt\")\n",
    "    storytypeid = tf.feature_column.numeric_column(\"storytypeid\")\n",
    "    threequarterbathnbr = tf.feature_column.numeric_column(\"threequarterbathnbr\")\n",
    "    typeconstructiontypeid = tf.feature_column.numeric_column(\"typeconstructiontypeid\")\n",
    "    unitcnt = tf.feature_column.numeric_column(\"unitcnt\")\n",
    "    yardbuildingsqft17 = tf.feature_column.numeric_column(\"yardbuildingsqft17\")\n",
    "    yardbuildingsqft26 = tf.feature_column.numeric_column(\"yardbuildingsqft26\")\n",
    "    yearbuilt = tf.feature_column.numeric_column(\"yearbuilt\")\n",
    "    numberofstories = tf.feature_column.numeric_column(\"numberofstories\")\n",
    "    structuretaxvaluedollarcnt = tf.feature_column.numeric_column(\"structuretaxvaluedollarcnt\")\n",
    "    taxvaluedollarcnt = tf.feature_column.numeric_column(\"taxvaluedollarcnt\")\n",
    "    assessmentyear = tf.feature_column.numeric_column(\"assessmentyear\")\n",
    "    landtaxvaluedollarcnt = tf.feature_column.numeric_column(\"landtaxvaluedollarcnt\")\n",
    "    taxamount = tf.feature_column.numeric_column(\"taxamount\")\n",
    "    taxdelinquencyflag = tf.feature_column.numeric_column(\"taxdelinquencyflag\")\n",
    "    taxdelinquencyyear = tf.feature_column.numeric_column(\"taxdelinquencyyear\")\n",
    "    censustractandblock = tf.feature_column.numeric_column(\"censustractandblock\")\n",
    "    transaction_year = tf.feature_column.numeric_column(\"transaction_year\")\n",
    "    transaction_month = tf.feature_column.numeric_column(\"transaction_month\")\n",
    "    transaction_day = tf.feature_column.numeric_column(\"transaction_day\")\n",
    "\n",
    "    numeric_features = [\n",
    "        airconditioningtypeid, architecturalstyletypeid, basementsqft,\n",
    "        bathroomcnt, bedroomcnt, buildingclasstypeid,\n",
    "        buildingqualitytypeid, calculatedbathnbr, decktypeid,\n",
    "        finishedfloor1squarefeet, calculatedfinishedsquarefeet,\n",
    "        finishedsquarefeet12, finishedsquarefeet13, finishedsquarefeet15,\n",
    "        finishedsquarefeet50, finishedsquarefeet6, fips, fullbathcnt,\n",
    "        garagecarcnt, garagetotalsqft, hashottuborspa,\n",
    "        heatingorsystemtypeid, latitude, longitude, lotsizesquarefeet,\n",
    "        poolcnt, poolsizesum, pooltypeid10, pooltypeid2, pooltypeid7,\n",
    "        propertylandusetypeid, rawcensustractandblock, regionidcity,\n",
    "        regionidcounty, regionidneighborhood, regionidzip, roomcnt,\n",
    "        storytypeid, threequarterbathnbr, typeconstructiontypeid,\n",
    "        unitcnt, yardbuildingsqft17, yardbuildingsqft26, yearbuilt,\n",
    "        numberofstories, structuretaxvaluedollarcnt, taxvaluedollarcnt,\n",
    "        assessmentyear, landtaxvaluedollarcnt, taxamount,\n",
    "        taxdelinquencyflag, taxdelinquencyyear, censustractandblock,\n",
    "        transaction_year, transaction_month, transaction_day\n",
    "    ]\n",
    "    \n",
    "    return numeric_features"
   ]
  },
  {
   "cell_type": "code",
   "execution_count": 75,
   "metadata": {
    "collapsed": true
   },
   "outputs": [],
   "source": [
    "def build_estimator(model_dir, model_type):\n",
    "    numeric_features = build_model_columns()\n",
    "    hidden_units = [1024, 512, 256, 128]\n",
    "\n",
    "    if model_type == 'wide':\n",
    "        return tf.estimator.LinearRegressor(\n",
    "                model_dir=model_dir,\n",
    "                feature_columns=numeric_features)\n",
    "    elif model_type == 'deep':\n",
    "        return tf.estimator.DNNRegressor(\n",
    "                model_dir=model_dir,\n",
    "                feature_columns=numeric_features,\n",
    "                hidden_units=hidden_units,\n",
    "                dropout=0.5)\n",
    "    else:\n",
    "        return tf.estimator.DNNLinearCombinedRegressor(\n",
    "                model_dir=model_dir,\n",
    "                linear_feature_columns=numeric_features,\n",
    "                dnn_feature_columns=numeric_features,\n",
    "                dnn_hidden_units=hidden_units,\n",
    "                dnn_dropout=0.5)"
   ]
  },
  {
   "cell_type": "code",
   "execution_count": 76,
   "metadata": {},
   "outputs": [
    {
     "name": "stdout",
     "output_type": "stream",
     "text": [
      "INFO:tensorflow:Using default config.\n",
      "INFO:tensorflow:Using config: {'_model_dir': '/var/folders/dx/pz80lsmn42xftdx1wckt0zh00000gn/T/tmp_hp30caj', '_tf_random_seed': 1, '_save_summary_steps': 100, '_save_checkpoints_secs': 600, '_save_checkpoints_steps': None, '_session_config': None, '_keep_checkpoint_max': 5, '_keep_checkpoint_every_n_hours': 10000, '_log_step_count_steps': 100}\n"
     ]
    }
   ],
   "source": [
    "import tempfile\n",
    "model_dir = tempfile.mkdtemp()\n",
    "m = build_estimator(model_dir, 'deep')"
   ]
  },
  {
   "cell_type": "code",
   "execution_count": 77,
   "metadata": {
    "scrolled": true
   },
   "outputs": [
    {
     "name": "stdout",
     "output_type": "stream",
     "text": [
      "INFO:tensorflow:Create CheckpointSaverHook.\n",
      "INFO:tensorflow:Saving checkpoints for 1 into /var/folders/dx/pz80lsmn42xftdx1wckt0zh00000gn/T/tmp_hp30caj/model.ckpt.\n",
      "INFO:tensorflow:loss = 0.882255, step = 1\n",
      "INFO:tensorflow:global_step/sec: 76.011\n",
      "INFO:tensorflow:loss = 0.136304, step = 101 (1.316 sec)\n",
      "INFO:tensorflow:global_step/sec: 80.523\n",
      "INFO:tensorflow:loss = 0.117347, step = 201 (1.242 sec)\n",
      "INFO:tensorflow:global_step/sec: 77.618\n",
      "INFO:tensorflow:loss = 0.0727718, step = 301 (1.288 sec)\n",
      "INFO:tensorflow:global_step/sec: 77.5056\n",
      "INFO:tensorflow:loss = 0.0781385, step = 401 (1.290 sec)\n",
      "INFO:tensorflow:global_step/sec: 71.1167\n",
      "INFO:tensorflow:loss = 0.0750263, step = 501 (1.406 sec)\n",
      "INFO:tensorflow:global_step/sec: 72.9878\n",
      "INFO:tensorflow:loss = 0.0981763, step = 601 (1.370 sec)\n",
      "INFO:tensorflow:global_step/sec: 57.1786\n",
      "INFO:tensorflow:loss = 0.107004, step = 701 (1.751 sec)\n",
      "INFO:tensorflow:global_step/sec: 65.0956\n",
      "INFO:tensorflow:loss = 0.0949838, step = 801 (1.534 sec)\n",
      "INFO:tensorflow:global_step/sec: 73.0661\n",
      "INFO:tensorflow:loss = 0.125866, step = 901 (1.369 sec)\n",
      "INFO:tensorflow:global_step/sec: 73.6374\n",
      "INFO:tensorflow:loss = 0.0571723, step = 1001 (1.358 sec)\n",
      "INFO:tensorflow:global_step/sec: 76.0941\n",
      "INFO:tensorflow:loss = 0.13629, step = 1101 (1.314 sec)\n",
      "INFO:tensorflow:global_step/sec: 80.3905\n",
      "INFO:tensorflow:loss = 0.090738, step = 1201 (1.244 sec)\n",
      "INFO:tensorflow:global_step/sec: 77.6\n",
      "INFO:tensorflow:loss = 0.0651223, step = 1301 (1.289 sec)\n",
      "INFO:tensorflow:global_step/sec: 77.2813\n",
      "INFO:tensorflow:loss = 0.127479, step = 1401 (1.297 sec)\n",
      "INFO:tensorflow:global_step/sec: 81.9414\n",
      "INFO:tensorflow:loss = 0.0890921, step = 1501 (1.217 sec)\n",
      "INFO:tensorflow:global_step/sec: 79.6937\n",
      "INFO:tensorflow:loss = 0.12107, step = 1601 (1.255 sec)\n",
      "INFO:tensorflow:global_step/sec: 80.4809\n",
      "INFO:tensorflow:loss = 0.0976606, step = 1701 (1.243 sec)\n",
      "INFO:tensorflow:global_step/sec: 82.3044\n",
      "INFO:tensorflow:loss = 0.0848453, step = 1801 (1.215 sec)\n",
      "INFO:tensorflow:global_step/sec: 76.4353\n",
      "INFO:tensorflow:loss = 0.0674119, step = 1901 (1.308 sec)\n",
      "INFO:tensorflow:global_step/sec: 79.7665\n",
      "INFO:tensorflow:loss = 0.0754495, step = 2001 (1.254 sec)\n",
      "INFO:tensorflow:global_step/sec: 82.4065\n",
      "INFO:tensorflow:loss = 0.0780402, step = 2101 (1.213 sec)\n",
      "INFO:tensorflow:global_step/sec: 79.8138\n",
      "INFO:tensorflow:loss = 0.0572926, step = 2201 (1.253 sec)\n",
      "INFO:tensorflow:global_step/sec: 78.5274\n",
      "INFO:tensorflow:loss = 0.118114, step = 2301 (1.273 sec)\n",
      "INFO:tensorflow:global_step/sec: 79.1463\n",
      "INFO:tensorflow:loss = 0.112315, step = 2401 (1.263 sec)\n",
      "INFO:tensorflow:global_step/sec: 80.2849\n",
      "INFO:tensorflow:loss = 0.0670757, step = 2501 (1.246 sec)\n",
      "INFO:tensorflow:global_step/sec: 81.858\n",
      "INFO:tensorflow:loss = 0.0692955, step = 2601 (1.222 sec)\n",
      "INFO:tensorflow:global_step/sec: 78.7589\n",
      "INFO:tensorflow:loss = 0.0865599, step = 2701 (1.270 sec)\n",
      "INFO:tensorflow:global_step/sec: 83.8189\n",
      "INFO:tensorflow:loss = 0.0858982, step = 2801 (1.193 sec)\n",
      "INFO:tensorflow:global_step/sec: 79.2777\n",
      "INFO:tensorflow:loss = 0.0595354, step = 2901 (1.261 sec)\n",
      "INFO:tensorflow:global_step/sec: 81.3394\n",
      "INFO:tensorflow:loss = 0.0913797, step = 3001 (1.229 sec)\n",
      "INFO:tensorflow:global_step/sec: 76.6707\n",
      "INFO:tensorflow:loss = 0.0766632, step = 3101 (1.304 sec)\n",
      "INFO:tensorflow:global_step/sec: 79.7015\n",
      "INFO:tensorflow:loss = 0.121832, step = 3201 (1.255 sec)\n",
      "INFO:tensorflow:global_step/sec: 83.7897\n",
      "INFO:tensorflow:loss = 0.141277, step = 3301 (1.194 sec)\n",
      "INFO:tensorflow:global_step/sec: 77.7175\n",
      "INFO:tensorflow:loss = 0.0472881, step = 3401 (1.287 sec)\n",
      "INFO:tensorflow:global_step/sec: 81.4999\n",
      "INFO:tensorflow:loss = 0.0714539, step = 3501 (1.226 sec)\n",
      "INFO:tensorflow:global_step/sec: 82.0289\n",
      "INFO:tensorflow:loss = 0.0951557, step = 3601 (1.219 sec)\n",
      "INFO:tensorflow:global_step/sec: 81.9396\n",
      "INFO:tensorflow:loss = 0.102643, step = 3701 (1.220 sec)\n",
      "INFO:tensorflow:global_step/sec: 78.3226\n",
      "INFO:tensorflow:loss = 0.0581475, step = 3801 (1.277 sec)\n",
      "INFO:tensorflow:global_step/sec: 78.5004\n",
      "INFO:tensorflow:loss = 0.0920503, step = 3901 (1.274 sec)\n",
      "INFO:tensorflow:global_step/sec: 78.7312\n",
      "INFO:tensorflow:loss = 0.0816101, step = 4001 (1.270 sec)\n",
      "INFO:tensorflow:global_step/sec: 80.7556\n",
      "INFO:tensorflow:loss = 0.0771082, step = 4101 (1.238 sec)\n",
      "INFO:tensorflow:global_step/sec: 77.0999\n",
      "INFO:tensorflow:loss = 0.0694934, step = 4201 (1.297 sec)\n",
      "INFO:tensorflow:global_step/sec: 81.699\n",
      "INFO:tensorflow:loss = 0.0947777, step = 4301 (1.224 sec)\n",
      "INFO:tensorflow:global_step/sec: 80.3241\n",
      "INFO:tensorflow:loss = 0.0780955, step = 4401 (1.245 sec)\n",
      "INFO:tensorflow:global_step/sec: 79.765\n",
      "INFO:tensorflow:loss = 0.0642128, step = 4501 (1.254 sec)\n",
      "INFO:tensorflow:global_step/sec: 80.871\n",
      "INFO:tensorflow:loss = 0.0852227, step = 4601 (1.236 sec)\n",
      "INFO:tensorflow:global_step/sec: 80.2518\n",
      "INFO:tensorflow:loss = 0.0785964, step = 4701 (1.246 sec)\n",
      "INFO:tensorflow:global_step/sec: 74.6149\n",
      "INFO:tensorflow:loss = 0.075879, step = 4801 (1.341 sec)\n",
      "INFO:tensorflow:global_step/sec: 78.6431\n",
      "INFO:tensorflow:loss = 0.0766795, step = 4901 (1.271 sec)\n",
      "INFO:tensorflow:global_step/sec: 81.1678\n",
      "INFO:tensorflow:loss = 0.0959122, step = 5001 (1.232 sec)\n",
      "INFO:tensorflow:global_step/sec: 77.0389\n",
      "INFO:tensorflow:loss = 0.0499693, step = 5101 (1.298 sec)\n",
      "INFO:tensorflow:global_step/sec: 77.8921\n",
      "INFO:tensorflow:loss = 0.0705392, step = 5201 (1.284 sec)\n",
      "INFO:tensorflow:global_step/sec: 81.2251\n",
      "INFO:tensorflow:loss = 0.100876, step = 5301 (1.231 sec)\n",
      "INFO:tensorflow:global_step/sec: 81.3388\n",
      "INFO:tensorflow:loss = 0.101546, step = 5401 (1.230 sec)\n",
      "INFO:tensorflow:global_step/sec: 78.7903\n",
      "INFO:tensorflow:loss = 0.0623448, step = 5501 (1.269 sec)\n",
      "INFO:tensorflow:global_step/sec: 81.3361\n",
      "INFO:tensorflow:loss = 0.0598743, step = 5601 (1.230 sec)\n",
      "INFO:tensorflow:global_step/sec: 76.7971\n",
      "INFO:tensorflow:loss = 0.0531805, step = 5701 (1.302 sec)\n",
      "INFO:tensorflow:global_step/sec: 68.7434\n",
      "INFO:tensorflow:loss = 0.070921, step = 5801 (1.455 sec)\n",
      "INFO:tensorflow:global_step/sec: 83.0088\n",
      "INFO:tensorflow:loss = 0.0500807, step = 5901 (1.205 sec)\n",
      "INFO:tensorflow:global_step/sec: 82.0871\n",
      "INFO:tensorflow:loss = 0.0946956, step = 6001 (1.218 sec)\n",
      "INFO:tensorflow:global_step/sec: 78.8701\n",
      "INFO:tensorflow:loss = 0.0812997, step = 6101 (1.268 sec)\n",
      "INFO:tensorflow:global_step/sec: 79.3211\n",
      "INFO:tensorflow:loss = 0.119568, step = 6201 (1.261 sec)\n",
      "INFO:tensorflow:global_step/sec: 80.2287\n",
      "INFO:tensorflow:loss = 0.103067, step = 6301 (1.246 sec)\n",
      "INFO:tensorflow:global_step/sec: 78.601\n",
      "INFO:tensorflow:loss = 0.0862581, step = 6401 (1.273 sec)\n",
      "INFO:tensorflow:global_step/sec: 71.0266\n",
      "INFO:tensorflow:loss = 0.0776606, step = 6501 (1.411 sec)\n",
      "INFO:tensorflow:global_step/sec: 56.3233\n",
      "INFO:tensorflow:loss = 0.0718371, step = 6601 (1.775 sec)\n",
      "INFO:tensorflow:global_step/sec: 63.9864\n",
      "INFO:tensorflow:loss = 0.0992256, step = 6701 (1.562 sec)\n",
      "INFO:tensorflow:global_step/sec: 56.1136\n",
      "INFO:tensorflow:loss = 0.112955, step = 6801 (1.781 sec)\n",
      "INFO:tensorflow:global_step/sec: 78.3613\n",
      "INFO:tensorflow:loss = 0.0493916, step = 6901 (1.275 sec)\n",
      "INFO:tensorflow:global_step/sec: 80.8048\n",
      "INFO:tensorflow:loss = 0.109931, step = 7001 (1.238 sec)\n",
      "INFO:tensorflow:global_step/sec: 80.5102\n",
      "INFO:tensorflow:loss = 0.0862674, step = 7101 (1.242 sec)\n",
      "INFO:tensorflow:global_step/sec: 78.1245\n",
      "INFO:tensorflow:loss = 0.138731, step = 7201 (1.280 sec)\n",
      "INFO:tensorflow:global_step/sec: 78.9042\n",
      "INFO:tensorflow:loss = 0.0739906, step = 7301 (1.267 sec)\n",
      "INFO:tensorflow:global_step/sec: 79.1499\n",
      "INFO:tensorflow:loss = 0.0768194, step = 7401 (1.263 sec)\n",
      "INFO:tensorflow:global_step/sec: 76.8767\n",
      "INFO:tensorflow:loss = 0.0983384, step = 7501 (1.301 sec)\n",
      "INFO:tensorflow:global_step/sec: 84.253\n",
      "INFO:tensorflow:loss = 0.128234, step = 7601 (1.187 sec)\n",
      "INFO:tensorflow:global_step/sec: 81.2857\n",
      "INFO:tensorflow:loss = 0.120844, step = 7701 (1.230 sec)\n",
      "INFO:tensorflow:global_step/sec: 77.137\n",
      "INFO:tensorflow:loss = 0.0860191, step = 7801 (1.297 sec)\n",
      "INFO:tensorflow:global_step/sec: 83.5938\n",
      "INFO:tensorflow:loss = 0.0874134, step = 7901 (1.196 sec)\n",
      "INFO:tensorflow:global_step/sec: 80.493\n",
      "INFO:tensorflow:loss = 0.0702634, step = 8001 (1.242 sec)\n",
      "INFO:tensorflow:global_step/sec: 83.041\n",
      "INFO:tensorflow:loss = 0.111132, step = 8101 (1.204 sec)\n",
      "INFO:tensorflow:global_step/sec: 80.0777\n"
     ]
    },
    {
     "name": "stdout",
     "output_type": "stream",
     "text": [
      "INFO:tensorflow:loss = 0.115643, step = 8201 (1.249 sec)\n",
      "INFO:tensorflow:global_step/sec: 80.2084\n",
      "INFO:tensorflow:loss = 0.0598548, step = 8301 (1.247 sec)\n",
      "INFO:tensorflow:global_step/sec: 81.1102\n",
      "INFO:tensorflow:loss = 0.0675995, step = 8401 (1.233 sec)\n",
      "INFO:tensorflow:global_step/sec: 78.1714\n",
      "INFO:tensorflow:loss = 0.0932097, step = 8501 (1.279 sec)\n",
      "INFO:tensorflow:global_step/sec: 78.9789\n",
      "INFO:tensorflow:loss = 0.0712742, step = 8601 (1.266 sec)\n",
      "INFO:tensorflow:global_step/sec: 78.9141\n",
      "INFO:tensorflow:loss = 0.0507378, step = 8701 (1.267 sec)\n",
      "INFO:tensorflow:global_step/sec: 79.7961\n",
      "INFO:tensorflow:loss = 0.0821358, step = 8801 (1.253 sec)\n",
      "INFO:tensorflow:global_step/sec: 78.131\n",
      "INFO:tensorflow:loss = 0.0796325, step = 8901 (1.280 sec)\n",
      "INFO:tensorflow:global_step/sec: 80.5671\n",
      "INFO:tensorflow:loss = 0.103183, step = 9001 (1.241 sec)\n",
      "INFO:tensorflow:global_step/sec: 80.2514\n",
      "INFO:tensorflow:loss = 0.0724166, step = 9101 (1.246 sec)\n",
      "INFO:tensorflow:Saving checkpoints for 9139 into /var/folders/dx/pz80lsmn42xftdx1wckt0zh00000gn/T/tmp_hp30caj/model.ckpt.\n",
      "INFO:tensorflow:Loss for final step: 0.0375359.\n"
     ]
    },
    {
     "data": {
      "text/plain": [
       "<tensorflow.python.estimator.canned.dnn.DNNRegressor at 0x113617e80>"
      ]
     },
     "execution_count": 77,
     "metadata": {},
     "output_type": "execute_result"
    }
   ],
   "source": [
    "m.train(input_fn=input_fn(df_trainx, trainy, num_epochs=5))"
   ]
  },
  {
   "cell_type": "code",
   "execution_count": 78,
   "metadata": {
    "collapsed": true
   },
   "outputs": [],
   "source": [
    "# results = m.evaluate(input_fn=input_fn(df_testx, testy, shuffle = False, num_threads=1, num_epochs = 1))"
   ]
  },
  {
   "cell_type": "code",
   "execution_count": 79,
   "metadata": {},
   "outputs": [
    {
     "name": "stdout",
     "output_type": "stream",
     "text": [
      "INFO:tensorflow:Restoring parameters from /var/folders/dx/pz80lsmn42xftdx1wckt0zh00000gn/T/tmp_hp30caj/model.ckpt-9139\n"
     ]
    }
   ],
   "source": [
    "y_pred = list(m.predict(input_fn=input_fn(df_testx, testy, shuffle = False, num_threads=1, num_epochs = 1)))"
   ]
  },
  {
   "cell_type": "code",
   "execution_count": 80,
   "metadata": {
    "collapsed": true
   },
   "outputs": [],
   "source": [
    "y_pred = np.array([x[\"predictions\"][0] for x in y_pred])"
   ]
  },
  {
   "cell_type": "code",
   "execution_count": 81,
   "metadata": {
    "collapsed": true
   },
   "outputs": [],
   "source": [
    "from sklearn.metrics import mean_absolute_error\n",
    "mae = mean_absolute_error(y_true=testy, y_pred=y_pred)"
   ]
  },
  {
   "cell_type": "code",
   "execution_count": 82,
   "metadata": {},
   "outputs": [
    {
     "name": "stdout",
     "output_type": "stream",
     "text": [
      "test set mean absolute error is 0.06708782437684511\n"
     ]
    }
   ],
   "source": [
    "print(\"test set mean absolute error is {}\".format(mae))"
   ]
  },
  {
   "cell_type": "code",
   "execution_count": 69,
   "metadata": {
    "collapsed": true
   },
   "outputs": [],
   "source": [
    "with open('xgbresults', 'r') as f:\n",
    "    xgbresults = f.read().split(\"\\n\")[:-1]"
   ]
  },
  {
   "cell_type": "code",
   "execution_count": 70,
   "metadata": {
    "collapsed": true
   },
   "outputs": [],
   "source": [
    "import numpy as np\n",
    "\n",
    "xgbresults = np.array(xgbresults)"
   ]
  },
  {
   "cell_type": "code",
   "execution_count": 71,
   "metadata": {},
   "outputs": [
    {
     "data": {
      "text/plain": [
       "array([ 0.00397682,  0.0197311 ,  0.01801938, ...,  0.02489141,\n",
       "        0.02957025, -0.03961992])"
      ]
     },
     "execution_count": 71,
     "metadata": {},
     "output_type": "execute_result"
    }
   ],
   "source": [
    "xgbresults.astype(np.float)"
   ]
  },
  {
   "cell_type": "code",
   "execution_count": null,
   "metadata": {
    "collapsed": true
   },
   "outputs": [],
   "source": []
  }
 ],
 "metadata": {
  "kernelspec": {
   "display_name": "Python 3",
   "language": "python",
   "name": "python3"
  },
  "language_info": {
   "codemirror_mode": {
    "name": "ipython",
    "version": 3
   },
   "file_extension": ".py",
   "mimetype": "text/x-python",
   "name": "python",
   "nbconvert_exporter": "python",
   "pygments_lexer": "ipython3",
   "version": "3.6.3"
  }
 },
 "nbformat": 4,
 "nbformat_minor": 2
}
