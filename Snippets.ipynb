{
 "cells": [
  {
   "cell_type": "code",
   "execution_count": null,
   "metadata": {
    "collapsed": true
   },
   "outputs": [],
   "source": [
    "# propertiesColumns = ['parcelid','airconditioningtypeid','architecturalstyletypeid','basementsqft',\n",
    "#                      'bathroomcnt','bedroomcnt','buildingclasstypeid','buildingqualitytypeid',\n",
    "#                      'calculatedbathnbr','decktypeid','finishedfloor1squarefeet','calculatedfinishedsquarefeet',\n",
    "#                      'finishedsquarefeet12','finishedsquarefeet13','finishedsquarefeet15','finishedsquarefeet50',\n",
    "#                      'finishedsquarefeet6','fips','fireplacecnt','fullbathcnt','garagecarcnt','garagetotalsqft',\n",
    "#                      'hashottuborspa','heatingorsystemtypeid','latitude','longitude','lotsizesquarefeet','poolcnt',\n",
    "#                      'poolsizesum','pooltypeid10','pooltypeid2','pooltypeid7','propertycountylandusecode',\n",
    "#                      'propertylandusetypeid','propertyzoningdesc','rawcensustractandblock','regionidcity',\n",
    "#                      'regionidcounty','regionidneighborhood','regionidzip','roomcnt','storytypeid',\n",
    "#                      'threequarterbathnbr','typeconstructiontypeid','unitcnt','yardbuildingsqft17',\n",
    "#                      'yardbuildingsqft26','yearbuilt','numberofstories','fireplaceflag','structuretaxvaluedollarcnt',\n",
    "#                      'taxvaluedollarcnt','assessmentyear','landtaxvaluedollarcnt','taxamount','taxdelinquencyflag',\n",
    "#                      'taxdelinquencyyear','censustractandblock']"
   ]
  },
  {
   "cell_type": "code",
   "execution_count": null,
   "metadata": {
    "collapsed": true
   },
   "outputs": [],
   "source": [
    "debug = df_trainx[[\n",
    "    'parcelid', 'bathroomcnt', 'bedroomcnt', 'calculatedbathnbr', 'calculatedfinishedsquarefeet',\n",
    "    'finishedsquarefeet12', 'fullbathcnt', 'latitude', 'longitude', 'rawcensustractandblock',\n",
    "    'roomcnt', 'yearbuilt', 'structuretaxvaluedollarcnt', 'taxvaluedollarcnt', 'assessmentyear',\n",
    "    'landtaxvaluedollarcnt', 'taxamount', \n",
    "]]"
   ]
  },
  {
   "cell_type": "code",
   "execution_count": null,
   "metadata": {
    "collapsed": true
   },
   "outputs": [],
   "source": [
    "debug_categorical = df_trainx[[\n",
    "    'fips', 'propertycountylandusecode', 'propertylandusetypeid', 'regionidcity','regionidcounty', 'regionidzip'\n",
    "]]"
   ]
  },
  {
   "cell_type": "code",
   "execution_count": null,
   "metadata": {
    "collapsed": true
   },
   "outputs": [],
   "source": [
    "# import os, errno\n",
    "# dir_name = \"test\"\n",
    "# try:\n",
    "#     model_dir = os.makedirs(\"./{}\".format(dir_name))\n",
    "# except OSError as e:\n",
    "#     if e.errno != errno.EEXIST:\n",
    "#         raise\n",
    "#     else: \n",
    "#         model_dir = \"./test\"\n",
    "#         print(\"directoriy already existed\")"
   ]
  }
 ],
 "metadata": {
  "kernelspec": {
   "display_name": "Python 3",
   "language": "python",
   "name": "python3"
  },
  "language_info": {
   "codemirror_mode": {
    "name": "ipython",
    "version": 3
   },
   "file_extension": ".py",
   "mimetype": "text/x-python",
   "name": "python",
   "nbconvert_exporter": "python",
   "pygments_lexer": "ipython3",
   "version": "3.6.2"
  }
 },
 "nbformat": 4,
 "nbformat_minor": 2
}
