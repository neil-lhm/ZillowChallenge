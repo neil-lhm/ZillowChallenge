{
 "cells": [
  {
   "cell_type": "code",
   "execution_count": 1,
   "metadata": {},
   "outputs": [
    {
     "name": "stderr",
     "output_type": "stream",
     "text": [
      "/Users/mli/anaconda3/lib/python3.6/site-packages/sklearn/cross_validation.py:41: DeprecationWarning: This module was deprecated in version 0.18 in favor of the model_selection module into which all the refactored classes and functions are moved. Also note that the interface of the new CV iterators are different from that of this module. This module will be removed in 0.20.\n",
      "  \"This module will be removed in 0.20.\", DeprecationWarning)\n"
     ]
    }
   ],
   "source": [
    "import xgboost as xgb\n",
    "import pandas as pd\n",
    "import numpy as np"
   ]
  },
  {
   "cell_type": "code",
   "execution_count": 2,
   "metadata": {
    "collapsed": true
   },
   "outputs": [],
   "source": [
    "trainFile = \"train_2016_v2.csv\"\n",
    "df_train = pd.read_csv(trainFile, header = 0, skipinitialspace=True, engine=\"python\", \n",
    "                       parse_dates=[\"transactiondate\"])\n",
    "\n",
    "propertiesFile = \"properties_2016.csv\"\n",
    "# use float dtype to handle na in pandas\n",
    "columnDtypes = {'parcelid':int, 'airconditioningtypeid':str, 'architecturalstyletypeid':str, 'basementsqft':float,\n",
    "                'bathroomcnt':float, 'bedroomcnt':float, 'buildingclasstypeid':str, 'buildingqualitytypeid':str,\n",
    "                'calculatedbathnbr':float, 'decktypeid':str, 'finishedfloor1squarefeet':float, 'calculatedfinishedsquarefeet':float,\n",
    "                'finishedsquarefeet12':float, 'finishedsquarefeet13':float, 'finishedsquarefeet15':float, 'finishedsquarefeet50':float,\n",
    "                'finishedsquarefeet6':float, 'fips':str, 'fireplacecnt':float, 'fullbathcnt':float, 'garagecarcnt':float, 'garagetotalsqft':float,\n",
    "                'hashottuborspa':str, 'heatingorsystemtypeid':str, 'latitude':float, 'longitude':float, 'lotsizesquarefeet':float, 'poolcnt':float,\n",
    "                'poolsizesum':float, 'pooltypeid10':str, 'pooltypeid2':str, 'pooltypeid7':str, 'propertycountylandusecode':str,\n",
    "                'propertylandusetypeid':str, 'propertyzoningdesc':str, 'rawcensustractandblock':float, 'regionidcity':str,\n",
    "                'regionidcounty':str, 'regionidneighborhood':str, 'regionidzip':str, 'roomcnt':float, 'storytypeid':float,\n",
    "                'threequarterbathnbr': float, 'typeconstructiontypeid':float, 'unitcnt':float, 'yardbuildingsqft17':float,\n",
    "                'yardbuildingsqft26':float, 'yearbuilt':float, 'numberofstories': float, 'fireplaceflag':str, 'structuretaxvaluedollarcnt':float,\n",
    "                'taxvaluedollarcnt': float, 'assessmentyear':float, 'landtaxvaluedollarcnt': float, 'taxamount':float, 'taxdelinquencyflag':str,\n",
    "                'taxdelinquencyyear': float, 'censustractandblock':float}\n",
    "df_properties = pd.read_csv(propertiesFile, header = 0, skipinitialspace=True, dtype=columnDtypes, \n",
    "                            engine=\"c\")"
   ]
  },
  {
   "cell_type": "code",
   "execution_count": 3,
   "metadata": {
    "collapsed": true
   },
   "outputs": [],
   "source": [
    "# apply label encoder on properties\n",
    "from sklearn.preprocessing import LabelEncoder\n",
    "for column in df_properties.columns:\n",
    "    df_properties[column] = df_properties[column].fillna(-1)\n",
    "    if 'object' == df_properties[column].dtype:\n",
    "        labelEncoder = LabelEncoder()\n",
    "        target = list(df_properties[column].values)\n",
    "        labelEncoder.fit(target)\n",
    "        df_properties[column] = labelEncoder.transform(target)\n",
    "        \n",
    "inter = pd.merge(df_properties, df_train, how=\"inner\", on=[\"parcelid\"]);\n",
    "\n",
    "inter['transactiondate'] = pd.to_datetime(df_train[\"transactiondate\"])\n",
    "inter['transaction_year'] = inter['transactiondate'].dt.year\n",
    "inter['transaction_month'] = inter['transactiondate'].dt.month\n",
    "inter['transaction_day'] = inter['transactiondate'].dt.day\n",
    "\n",
    "import numpy as np\n",
    "np.random.seed(1)\n",
    "datasetSize = inter.shape[0]\n",
    "trainRatio = .8\n",
    "trainIndex = set(np.random.choice(datasetSize, int(datasetSize * trainRatio), replace=False))\n",
    "testIndex = set(range(datasetSize)) - trainIndex\n",
    "# cast to list to indexing dataframe\n",
    "trainIndex = list(trainIndex)\n",
    "testIndex = list(testIndex)\n",
    "\n",
    "columns_to_drop = [\n",
    "    'parcelid', 'logerror', 'transactiondate', 'propertyzoningdesc', \n",
    "    'propertycountylandusecode'\n",
    "]\n",
    "\n",
    "df_trainx = inter.iloc[trainIndex]\n",
    "trainy = df_trainx['logerror'].astype(float)\n",
    "df_trainx = df_trainx.drop(columns_to_drop, axis=1)\n",
    "df_testx = inter.iloc[testIndex]\n",
    "testy = df_testx['logerror'].astype(float)\n",
    "df_testx = df_testx.drop(columns_to_drop, axis=1)\n",
    "\n",
    "from sklearn.preprocessing import StandardScaler\n",
    "standardScaler = StandardScaler()\n",
    "df_trainx.iloc[::] = standardScaler.fit_transform(df_trainx.iloc[::])\n",
    "df_testx.iloc[::] = standardScaler.transform(df_testx.iloc[::])"
   ]
  },
  {
   "cell_type": "code",
   "execution_count": 4,
   "metadata": {},
   "outputs": [
    {
     "name": "stdout",
     "output_type": "stream",
     "text": [
      "[0]\ttrain-mae:0.487248\ttest-mae:0.487455\n",
      "Multiple eval metrics have been passed: 'test-mae' will be used for early stopping.\n",
      "\n",
      "Will train until test-mae hasn't improved in 100 rounds.\n",
      "[10]\ttrain-mae:0.401584\ttest-mae:0.401683\n",
      "[20]\ttrain-mae:0.332203\ttest-mae:0.332191\n",
      "[30]\ttrain-mae:0.276187\ttest-mae:0.276067\n",
      "[40]\ttrain-mae:0.231109\ttest-mae:0.230957\n",
      "[50]\ttrain-mae:0.194949\ttest-mae:0.194821\n",
      "[60]\ttrain-mae:0.166115\ttest-mae:0.165936\n",
      "[70]\ttrain-mae:0.143201\ttest-mae:0.142897\n",
      "[80]\ttrain-mae:0.125131\ttest-mae:0.124721\n",
      "[90]\ttrain-mae:0.111002\ttest-mae:0.110526\n",
      "[100]\ttrain-mae:0.100073\ttest-mae:0.099536\n",
      "[110]\ttrain-mae:0.091729\ttest-mae:0.091154\n",
      "[120]\ttrain-mae:0.085426\ttest-mae:0.08482\n",
      "[130]\ttrain-mae:0.080736\ttest-mae:0.080107\n",
      "[140]\ttrain-mae:0.077303\ttest-mae:0.076627\n",
      "[150]\ttrain-mae:0.074779\ttest-mae:0.074071\n",
      "[160]\ttrain-mae:0.072942\ttest-mae:0.072208\n",
      "[170]\ttrain-mae:0.071606\ttest-mae:0.070852\n",
      "[180]\ttrain-mae:0.070639\ttest-mae:0.069874\n",
      "[190]\ttrain-mae:0.06993\ttest-mae:0.069161\n",
      "[200]\ttrain-mae:0.06941\ttest-mae:0.068648\n",
      "[210]\ttrain-mae:0.069027\ttest-mae:0.068275\n",
      "[220]\ttrain-mae:0.068736\ttest-mae:0.067989\n",
      "[230]\ttrain-mae:0.068512\ttest-mae:0.067775\n",
      "[240]\ttrain-mae:0.068344\ttest-mae:0.067619\n",
      "[250]\ttrain-mae:0.068216\ttest-mae:0.067502\n",
      "[260]\ttrain-mae:0.068111\ttest-mae:0.067407\n",
      "[270]\ttrain-mae:0.068024\ttest-mae:0.067335\n",
      "[280]\ttrain-mae:0.067955\ttest-mae:0.067274\n",
      "[290]\ttrain-mae:0.0679\ttest-mae:0.067237\n",
      "[300]\ttrain-mae:0.067853\ttest-mae:0.067214\n",
      "[310]\ttrain-mae:0.067808\ttest-mae:0.067197\n",
      "[320]\ttrain-mae:0.067768\ttest-mae:0.06718\n",
      "[330]\ttrain-mae:0.06774\ttest-mae:0.06716\n",
      "[340]\ttrain-mae:0.067712\ttest-mae:0.067157\n",
      "[350]\ttrain-mae:0.067685\ttest-mae:0.067152\n",
      "[360]\ttrain-mae:0.067666\ttest-mae:0.067148\n",
      "[370]\ttrain-mae:0.067641\ttest-mae:0.067152\n",
      "[380]\ttrain-mae:0.067619\ttest-mae:0.067152\n",
      "[390]\ttrain-mae:0.067602\ttest-mae:0.067165\n",
      "[400]\ttrain-mae:0.067591\ttest-mae:0.067171\n",
      "[410]\ttrain-mae:0.067574\ttest-mae:0.067179\n",
      "[420]\ttrain-mae:0.067555\ttest-mae:0.067187\n",
      "[430]\ttrain-mae:0.06754\ttest-mae:0.067193\n",
      "[440]\ttrain-mae:0.067525\ttest-mae:0.067202\n",
      "[450]\ttrain-mae:0.06751\ttest-mae:0.067211\n",
      "Stopping. Best iteration:\n",
      "[357]\ttrain-mae:0.067671\ttest-mae:0.067145\n",
      "\n"
     ]
    }
   ],
   "source": [
    "train = xgb.DMatrix(df_trainx, label=trainy)\n",
    "test = xgb.DMatrix(df_testx, label=testy)\n",
    "\n",
    "params = {}\n",
    "params['eta'] = 0.02\n",
    "params['objective'] = 'reg:linear'\n",
    "params['eval_metric'] = 'mae'\n",
    "params['max_depth'] = 4\n",
    "params['silent'] = 1\n",
    "\n",
    "watchlist = [(train, 'train'), (test, 'test')]\n",
    "clf = xgb.train(params, train, 10000, watchlist, early_stopping_rounds=100, verbose_eval=10)"
   ]
  },
  {
   "cell_type": "code",
   "execution_count": 5,
   "metadata": {
    "collapsed": true
   },
   "outputs": [],
   "source": [
    "y_pred = clf.predict(test)"
   ]
  },
  {
   "cell_type": "code",
   "execution_count": 6,
   "metadata": {},
   "outputs": [
    {
     "data": {
      "text/plain": [
       "0.067219126546435054"
      ]
     },
     "execution_count": 6,
     "metadata": {},
     "output_type": "execute_result"
    }
   ],
   "source": [
    "from sklearn.metrics import mean_absolute_error\n",
    "mean_absolute_error(y_true = testy.values, y_pred =y_pred)\n"
   ]
  },
  {
   "cell_type": "code",
   "execution_count": 8,
   "metadata": {
    "collapsed": true
   },
   "outputs": [],
   "source": [
    "with open ('xgbresults', 'w') as f:\n",
    "    for y in y_pred:\n",
    "        f.write(\"{}\\n\".format(y))"
   ]
  },
  {
   "cell_type": "code",
   "execution_count": null,
   "metadata": {
    "collapsed": true
   },
   "outputs": [],
   "source": []
  }
 ],
 "metadata": {
  "kernelspec": {
   "display_name": "Python 3",
   "language": "python",
   "name": "python3"
  },
  "language_info": {
   "codemirror_mode": {
    "name": "ipython",
    "version": 3
   },
   "file_extension": ".py",
   "mimetype": "text/x-python",
   "name": "python",
   "nbconvert_exporter": "python",
   "pygments_lexer": "ipython3",
   "version": "3.6.3"
  }
 },
 "nbformat": 4,
 "nbformat_minor": 2
}
