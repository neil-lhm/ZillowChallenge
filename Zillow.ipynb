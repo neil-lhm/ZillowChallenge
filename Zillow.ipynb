{
 "cells": [
  {
   "cell_type": "code",
   "execution_count": 1,
   "metadata": {
    "collapsed": true
   },
   "outputs": [],
   "source": [
    "import tensorflow as tf"
   ]
  },
  {
   "cell_type": "code",
   "execution_count": 2,
   "metadata": {
    "collapsed": true
   },
   "outputs": [],
   "source": [
    "import pandas as pd\n",
    "trainFile = \"train_2016_v2.csv\"\n",
    "df_train = pd.read_csv(trainFile, header=0, skipinitialspace=True)"
   ]
  },
  {
   "cell_type": "code",
   "execution_count": 3,
   "metadata": {},
   "outputs": [],
   "source": [
    "propertiesFile = \"properties_2016.csv\"\n",
    "# propertiesColumns = ['parcelid','airconditioningtypeid','architecturalstyletypeid','basementsqft',\n",
    "#                      'bathroomcnt','bedroomcnt','buildingclasstypeid','buildingqualitytypeid',\n",
    "#                      'calculatedbathnbr','decktypeid','finishedfloor1squarefeet','calculatedfinishedsquarefeet',\n",
    "#                      'finishedsquarefeet12','finishedsquarefeet13','finishedsquarefeet15','finishedsquarefeet50',\n",
    "#                      'finishedsquarefeet6','fips','fireplacecnt','fullbathcnt','garagecarcnt','garagetotalsqft',\n",
    "#                      'hashottuborspa','heatingorsystemtypeid','latitude','longitude','lotsizesquarefeet','poolcnt',\n",
    "#                      'poolsizesum','pooltypeid10','pooltypeid2','pooltypeid7','propertycountylandusecode',\n",
    "#                      'propertylandusetypeid','propertyzoningdesc','rawcensustractandblock','regionidcity',\n",
    "#                      'regionidcounty','regionidneighborhood','regionidzip','roomcnt','storytypeid',\n",
    "#                      'threequarterbathnbr','typeconstructiontypeid','unitcnt','yardbuildingsqft17',\n",
    "#                      'yardbuildingsqft26','yearbuilt','numberofstories','fireplaceflag','structuretaxvaluedollarcnt',\n",
    "#                      'taxvaluedollarcnt','assessmentyear','landtaxvaluedollarcnt','taxamount','taxdelinquencyflag',\n",
    "#                      'taxdelinquencyyear','censustractandblock']\n",
    "\n",
    "# use float dtype to handle na in pandas\n",
    "\n",
    "columnDtypes = {'parcelid':float, 'airconditioningtypeid':str, 'architecturalstyletypeid':str, 'basementsqft':float,\n",
    "                'bathroomcnt':float, 'bedroomcnt':float, 'buildingclasstypeid':str, 'buildingqualitytypeid':str,\n",
    "                'calculatedbathnbr':float, 'decktypeid':str, 'finishedfloor1squarefeet':float, 'calculatedfinishedsquarefeet':float,\n",
    "                'finishedsquarefeet12':float, 'finishedsquarefeet13':float, 'finishedsquarefeet15':float, 'finishedsquarefeet50':float,\n",
    "                'finishedsquarefeet6':float, 'fips':str, 'fireplacecnt':float, 'fullbathcnt':float, 'garagecarcnt':float, 'garagetotalsqft':float,\n",
    "                'hashottuborspa':str, 'heatingorsystemtypeid':str, 'latitude':float, 'longitude':float, 'lotsizesquarefeet':float, 'poolcnt':float,\n",
    "                'poolsizesum':float, 'pooltypeid10':str, 'pooltypeid2':str, 'pooltypeid7':str, 'propertycountylandusecode':str,\n",
    "                'propertylandusetypeid':str, 'propertyzoningdesc':str, 'rawcensustractandblock':str, 'regioncity':str,\n",
    "                'regionidcounty':str, 'regionidneighborhood':str, 'regionidzip':float, 'roomcnt':float, 'storytypeid':float,\n",
    "                'threequarterbathnbr': float, 'typeconstructiontypeid':float, 'unitcnt':float, 'yardbuildingsqft17':float,\n",
    "                'yardbuildingsqft26':float, 'yearbuilt':float, 'numberofstories': float, 'fireplaceflag':float, 'structuretaxvaluedollarcnt':float,\n",
    "                'taxvaluedollarcnt': float, 'assessmentyear':float, 'landtaxvaluedollarcnt': float, 'taxamount':float, 'taxdelinquencyflag':str,\n",
    "                'taxdelinquencyyear': float, 'censustractandblock':float}\n",
    "df_properties = pd.read_csv(propertiesFile, header=0, skipinitialspace=True, dtype=columnDtypes)"
   ]
  },
  {
   "cell_type": "code",
   "execution_count": 4,
   "metadata": {},
   "outputs": [
    {
     "name": "stdout",
     "output_type": "stream",
     "text": [
      "before dropping all nan rows: (2985217, 58)\n",
      "afer dropping all nan rows: (2981888, 58)\n"
     ]
    }
   ],
   "source": [
    "print(\"before dropping all nan rows: {}\".format(df_properties.shape))\n",
    "# count the number of Nans in rows\n",
    "df = df_properties.isnull().sum(axis=1) == 57\n",
    "# drop rows where there are only nas\n",
    "df_properties.drop(df[df == True].index, inplace=True)\n",
    "print(\"afer dropping all nan rows: {}\".format(df_properties.shape))"
   ]
  },
  {
   "cell_type": "code",
   "execution_count": 5,
   "metadata": {},
   "outputs": [
    {
     "name": "stdout",
     "output_type": "stream",
     "text": [
      "afer dropping federal information processing code column: (2981888, 57)\n"
     ]
    }
   ],
   "source": [
    "#further feature selection\n",
    "df_properties.drop('fips', axis=1, inplace=True)\n",
    "print(\"afer dropping federal information processing code column: {}\".format(df_properties.shape))"
   ]
  },
  {
   "cell_type": "code",
   "execution_count": 6,
   "metadata": {},
   "outputs": [],
   "source": [
    "'''Return the index of the input dataframe where the given column has nan values.\n",
    "'''\n",
    "def getIndex(df, colName):\n",
    "    tmpdf = df[colName].isnull()\n",
    "    return tmpdf[tmpdf == True].index"
   ]
  },
  {
   "cell_type": "code",
   "execution_count": 7,
   "metadata": {
    "scrolled": true
   },
   "outputs": [
    {
     "name": "stdout",
     "output_type": "stream",
     "text": [
      "afer dropping rows with empty longtitude and latitude data: (2973755, 57)\n"
     ]
    }
   ],
   "source": [
    "# drop rows with nans in essential features\n",
    "essentialFeatures = ['longitude', 'latitude', 'bathroomcnt', 'bedroomcnt']\n",
    "for feature in essentialFeatures:\n",
    "    df_properties.drop(getIndex(df_properties, feature), inplace=True)\n",
    "print(\"afer dropping rows with empty longtitude and latitude data: {}\".format(df_properties.shape))"
   ]
  },
  {
   "cell_type": "code",
   "execution_count": 11,
   "metadata": {
    "scrolled": false
   },
   "outputs": [
    {
     "data": {
      "text/plain": [
       "parcelid                              0\n",
       "airconditioningtypeid           2162236\n",
       "architecturalstyletypeid        2967694\n",
       "basementsqft                    2972127\n",
       "bathroomcnt                           0\n",
       "bedroomcnt                            0\n",
       "buildingclasstypeid             2961127\n",
       "buildingqualitytypeid           1035267\n",
       "calculatedbathnbr                117450\n",
       "decktypeid                      2956659\n",
       "finishedfloor1squarefeet        2771038\n",
       "calculatedfinishedsquarefeet      44120\n",
       "finishedsquarefeet12             264575\n",
       "finishedsquarefeet13            2966083\n",
       "finishedsquarefeet15            2782969\n",
       "finishedsquarefeet50            2771038\n",
       "finishedsquarefeet6             2951755\n",
       "fireplacecnt                    2661118\n",
       "fullbathcnt                      117450\n",
       "garagecarcnt                    2090488\n",
       "garagetotalsqft                 2090488\n",
       "hashottuborspa                  2904741\n",
       "heatingorsystemtypeid           1167361\n",
       "latitude                              0\n",
       "longitude                             0\n",
       "lotsizesquarefeet                264660\n",
       "poolcnt                         2456221\n",
       "poolsizesum                     2945795\n",
       "pooltypeid10                    2936816\n",
       "pooltypeid2                     2941680\n",
       "pooltypeid7                     2488296\n",
       "propertycountylandusecode           840\n",
       "propertylandusetypeid                 0\n",
       "propertyzoningdesc               995148\n",
       "rawcensustractandblock                0\n",
       "regionidcity                      51383\n",
       "regionidcounty                        0\n",
       "regionidneighborhood            1817353\n",
       "regionidzip                        2518\n",
       "roomcnt                              13\n",
       "storytypeid                     2972131\n",
       "threequarterbathnbr             2662124\n",
       "typeconstructiontypeid          2967008\n",
       "unitcnt                          996279\n",
       "yardbuildingsqft17              2893400\n",
       "yardbuildingsqft26              2971108\n",
       "yearbuilt                         48486\n",
       "numberofstories                 2291701\n",
       "fireplaceflag                         0\n",
       "structuretaxvaluedollarcnt        43543\n",
       "taxvaluedollarcnt                 31113\n",
       "assessmentyear                        2\n",
       "landtaxvaluedollarcnt             56296\n",
       "taxamount                         19790\n",
       "taxdelinquencyflag              2917293\n",
       "taxdelinquencyyear              2917291\n",
       "censustractandblock               63664\n",
       "dtype: int64"
      ]
     },
     "execution_count": 11,
     "metadata": {},
     "output_type": "execute_result"
    }
   ],
   "source": [
    "df_properties.isnull().sum(axis=0)"
   ]
  },
  {
   "cell_type": "code",
   "execution_count": null,
   "metadata": {
    "scrolled": true
   },
   "outputs": [],
   "source": []
  }
 ],
 "metadata": {
  "kernelspec": {
   "display_name": "Python 3",
   "language": "python",
   "name": "python3"
  },
  "language_info": {
   "codemirror_mode": {
    "name": "ipython",
    "version": 3
   },
   "file_extension": ".py",
   "mimetype": "text/x-python",
   "name": "python",
   "nbconvert_exporter": "python",
   "pygments_lexer": "ipython3",
   "version": "3.6.2"
  }
 },
 "nbformat": 4,
 "nbformat_minor": 2
}
