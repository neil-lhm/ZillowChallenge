{
 "cells": [
  {
   "cell_type": "code",
   "execution_count": 1,
   "metadata": {
    "collapsed": true
   },
   "outputs": [],
   "source": [
    "import tensorflow as tf\n",
    "import pandas as pd\n",
    "trainFile = \"train_2016_v2.csv\"\n",
    "df_train = pd.read_csv(trainFile, header = 0, skipinitialspace=True, engine=\"python\", \n",
    "                       parse_dates=[\"transactiondate\"])"
   ]
  },
  {
   "cell_type": "code",
   "execution_count": 2,
   "metadata": {
    "collapsed": true
   },
   "outputs": [],
   "source": [
    "propertiesFile = \"properties_2016.csv\"\n",
    "# use float dtype to handle na in pandas\n",
    "columnDtypes = {'parcelid':int, 'airconditioningtypeid':str, 'architecturalstyletypeid':str, 'basementsqft':float,\n",
    "                'bathroomcnt':float, 'bedroomcnt':float, 'buildingclasstypeid':str, 'buildingqualitytypeid':str,\n",
    "                'calculatedbathnbr':float, 'decktypeid':str, 'finishedfloor1squarefeet':float, 'calculatedfinishedsquarefeet':float,\n",
    "                'finishedsquarefeet12':float, 'finishedsquarefeet13':float, 'finishedsquarefeet15':float, 'finishedsquarefeet50':float,\n",
    "                'finishedsquarefeet6':float, 'fips':str, 'fireplacecnt':float, 'fullbathcnt':float, 'garagecarcnt':float, 'garagetotalsqft':float,\n",
    "                'hashottuborspa':str, 'heatingorsystemtypeid':str, 'latitude':float, 'longitude':float, 'lotsizesquarefeet':float, 'poolcnt':float,\n",
    "                'poolsizesum':float, 'pooltypeid10':str, 'pooltypeid2':str, 'pooltypeid7':str, 'propertycountylandusecode':str,\n",
    "                'propertylandusetypeid':str, 'propertyzoningdesc':str, 'rawcensustractandblock':float, 'regionidcity':str,\n",
    "                'regionidcounty':str, 'regionidneighborhood':str, 'regionidzip':str, 'roomcnt':float, 'storytypeid':float,\n",
    "                'threequarterbathnbr': float, 'typeconstructiontypeid':float, 'unitcnt':float, 'yardbuildingsqft17':float,\n",
    "                'yardbuildingsqft26':float, 'yearbuilt':float, 'numberofstories': float, 'fireplaceflag':str, 'structuretaxvaluedollarcnt':float,\n",
    "                'taxvaluedollarcnt': float, 'assessmentyear':float, 'landtaxvaluedollarcnt': float, 'taxamount':float, 'taxdelinquencyflag':str,\n",
    "                'taxdelinquencyyear': float, 'censustractandblock':float}\n",
    "df_properties = pd.read_csv(propertiesFile, header = 0, skipinitialspace=True, dtype=columnDtypes, \n",
    "                            engine=\"c\")"
   ]
  },
  {
   "cell_type": "code",
   "execution_count": 3,
   "metadata": {},
   "outputs": [
    {
     "data": {
      "text/plain": [
       "(90275, 56)"
      ]
     },
     "execution_count": 3,
     "metadata": {},
     "output_type": "execute_result"
    }
   ],
   "source": [
    "inter = pd.merge(df_properties, df_train, how=\"inner\", on=[\"parcelid\"]);\n",
    "inter['transactiondate'] = pd.to_datetime(df_train[\"transactiondate\"])\n",
    "inter['transaction_year'] = inter['transactiondate'].dt.year\n",
    "inter['transaction_month'] = inter['transactiondate'].dt.month\n",
    "inter['transaction_day'] = inter['transactiondate'].dt.day\n",
    "\n",
    "columns_to_drop = [\n",
    "    'parcelid', 'logerror', 'transactiondate', 'propertyzoningdesc', \n",
    "    'propertycountylandusecode','fireplacecnt', 'fireplaceflag'\n",
    "]\n",
    "\n",
    "y = inter['logerror']\n",
    "\n",
    "inter = inter.drop(columns_to_drop, axis=1)\n",
    "inter.shape"
   ]
  },
  {
   "cell_type": "code",
   "execution_count": 4,
   "metadata": {},
   "outputs": [],
   "source": [
    "numeric_cols = inter.select_dtypes(exclude=['object'])\n",
    "numeric_cols = numeric_cols.fillna(-1)\n",
    "\n",
    "from sklearn.preprocessing import StandardScaler\n",
    "standardScaler = StandardScaler()\n",
    "numeric_cols.iloc[::] = standardScaler.fit_transform(numeric_cols.iloc[::])\n",
    "numeric_cols.iloc[::] = standardScaler.transform(numeric_cols.iloc[::])\n",
    "\n",
    "inter[numeric_cols.columns] = numeric_cols\n",
    "numeric_features = [tf.feature_column.numeric_column(col) for col in numeric_cols.columns]"
   ]
  },
  {
   "cell_type": "code",
   "execution_count": 5,
   "metadata": {},
   "outputs": [],
   "source": [
    "categorical_cols = inter.select_dtypes(include=['object'])\n",
    "categorical_cols = categorical_cols.fillna('none')\n",
    "inter[categorical_cols.columns] = categorical_cols\n",
    "complex_features = [\"regionidcity\", \"regionidneighborhood\", \"regionidzip\"]\n",
    "simple_categorical_features = [\n",
    "    tf.feature_column.categorical_column_with_hash_bucket(col, hash_bucket_size=100)\n",
    "    for col in categorical_cols if col not in complex_features\n",
    "]\n",
    "complex_categorical_features = [\n",
    "    tf.feature_column.categorical_column_with_hash_bucket(col, hash_bucket_size=500)\n",
    "    for col in complex_features\n",
    "]\n",
    "\n",
    "deep_indicator_columns = [\n",
    "    tf.feature_column.indicator_column(col) for col in simple_categorical_features\n",
    "]\n",
    "\n",
    "deep_embedding_columns = [\n",
    "    tf.feature_column.embedding_column(col, dimension=8) for col in complex_categorical_features\n",
    "]\n",
    "\n",
    "deep_columns = numeric_features + deep_indicator_columns + deep_embedding_columns"
   ]
  },
  {
   "cell_type": "code",
   "execution_count": 6,
   "metadata": {},
   "outputs": [],
   "source": [
    "def input_fn(x, y, num_epochs, shuffle=True, batch_size=32, num_threads=1):\n",
    "    return tf.estimator.inputs.pandas_input_fn(\n",
    "        x=x,\n",
    "        y=y,\n",
    "        batch_size=batch_size,\n",
    "        num_epochs=num_epochs,\n",
    "        shuffle=shuffle,\n",
    "        num_threads=num_threads)"
   ]
  },
  {
   "cell_type": "code",
   "execution_count": 7,
   "metadata": {},
   "outputs": [],
   "source": [
    "from sklearn.model_selection import train_test_split\n",
    "x_train, x_test, y_train, y_test = train_test_split(inter, y, test_size=0.2, random_state=42)"
   ]
  },
  {
   "cell_type": "code",
   "execution_count": 22,
   "metadata": {
    "collapsed": true
   },
   "outputs": [],
   "source": [
    "def build_estimator(model_dir, model_type):\n",
    "    hidden_units = [360, 180, 90, 45]\n",
    "\n",
    "    if model_type == 'wide':\n",
    "        return tf.estimator.LinearRegressor(\n",
    "                model_dir=model_dir,\n",
    "                feature_columns=numeric_features)\n",
    "    elif model_type == 'deep':\n",
    "        return tf.estimator.DNNRegressor(\n",
    "                model_dir=model_dir,\n",
    "                feature_columns=deep_columns,\n",
    "                hidden_units=hidden_units,\n",
    "                dropout=0.3)\n",
    "    else:\n",
    "        return tf.estimator.DNNLinearCombinedRegressor(\n",
    "                model_dir=model_dir,\n",
    "                linear_feature_columns=numeric_features,\n",
    "                dnn_feature_columns=deep_columns,\n",
    "                dnn_hidden_units=hidden_units,\n",
    "                dnn_dropout=0.3)"
   ]
  },
  {
   "cell_type": "code",
   "execution_count": 26,
   "metadata": {},
   "outputs": [
    {
     "name": "stdout",
     "output_type": "stream",
     "text": [
      "INFO:tensorflow:Using default config.\n",
      "INFO:tensorflow:Using config: {'_model_dir': '/var/folders/dx/pz80lsmn42xftdx1wckt0zh00000gn/T/tmpv0fdw_8g', '_tf_random_seed': 1, '_save_summary_steps': 100, '_save_checkpoints_secs': 600, '_save_checkpoints_steps': None, '_session_config': None, '_keep_checkpoint_max': 5, '_keep_checkpoint_every_n_hours': 10000, '_log_step_count_steps': 100}\n"
     ]
    }
   ],
   "source": [
    "import tempfile\n",
    "model_dir = tempfile.mkdtemp()\n",
    "m = build_estimator(model_dir, 'deep')"
   ]
  },
  {
   "cell_type": "code",
   "execution_count": 27,
   "metadata": {
    "scrolled": true
   },
   "outputs": [
    {
     "name": "stdout",
     "output_type": "stream",
     "text": [
      "INFO:tensorflow:Create CheckpointSaverHook.\n",
      "INFO:tensorflow:Saving checkpoints for 1 into /var/folders/dx/pz80lsmn42xftdx1wckt0zh00000gn/T/tmpv0fdw_8g/model.ckpt.\n",
      "INFO:tensorflow:loss = 524086.0, step = 1\n",
      "INFO:tensorflow:global_step/sec: 66.216\n",
      "INFO:tensorflow:loss = 3292.54, step = 101 (1.511 sec)\n",
      "INFO:tensorflow:global_step/sec: 70.3612\n",
      "INFO:tensorflow:loss = 366.695, step = 201 (1.421 sec)\n",
      "INFO:tensorflow:global_step/sec: 67.5037\n",
      "INFO:tensorflow:loss = 1118.47, step = 301 (1.482 sec)\n",
      "INFO:tensorflow:global_step/sec: 69.9515\n",
      "INFO:tensorflow:loss = 10.3473, step = 401 (1.429 sec)\n",
      "INFO:tensorflow:global_step/sec: 68.6722\n",
      "INFO:tensorflow:loss = 834.917, step = 501 (1.456 sec)\n",
      "INFO:tensorflow:global_step/sec: 69.389\n",
      "INFO:tensorflow:loss = 4.44745, step = 601 (1.441 sec)\n",
      "INFO:tensorflow:global_step/sec: 67.3022\n",
      "INFO:tensorflow:loss = 24.6419, step = 701 (1.486 sec)\n",
      "INFO:tensorflow:global_step/sec: 67.4497\n",
      "INFO:tensorflow:loss = 47.388, step = 801 (1.483 sec)\n",
      "INFO:tensorflow:global_step/sec: 68.3338\n",
      "INFO:tensorflow:loss = 44.6307, step = 901 (1.463 sec)\n",
      "INFO:tensorflow:global_step/sec: 65.9152\n",
      "INFO:tensorflow:loss = 29.305, step = 1001 (1.517 sec)\n",
      "INFO:tensorflow:global_step/sec: 69.2586\n",
      "INFO:tensorflow:loss = 1.73309, step = 1101 (1.444 sec)\n",
      "INFO:tensorflow:global_step/sec: 68.6818\n",
      "INFO:tensorflow:loss = 0.927119, step = 1201 (1.456 sec)\n",
      "INFO:tensorflow:global_step/sec: 70.5029\n",
      "INFO:tensorflow:loss = 94.629, step = 1301 (1.418 sec)\n",
      "INFO:tensorflow:global_step/sec: 68.2972\n",
      "INFO:tensorflow:loss = 0.948826, step = 1401 (1.464 sec)\n",
      "INFO:tensorflow:global_step/sec: 71.084\n",
      "INFO:tensorflow:loss = 808.264, step = 1501 (1.407 sec)\n",
      "INFO:tensorflow:global_step/sec: 72.7493\n",
      "INFO:tensorflow:loss = 0.977808, step = 1601 (1.375 sec)\n",
      "INFO:tensorflow:global_step/sec: 68.5192\n",
      "INFO:tensorflow:loss = 1.79539, step = 1701 (1.460 sec)\n",
      "INFO:tensorflow:global_step/sec: 69.0499\n",
      "INFO:tensorflow:loss = 1.02041, step = 1801 (1.448 sec)\n",
      "INFO:tensorflow:global_step/sec: 70.0307\n",
      "INFO:tensorflow:loss = 1.2429, step = 1901 (1.428 sec)\n",
      "INFO:tensorflow:global_step/sec: 70.9285\n",
      "INFO:tensorflow:loss = 3.06549, step = 2001 (1.410 sec)\n",
      "INFO:tensorflow:global_step/sec: 70.8617\n",
      "INFO:tensorflow:loss = 1.07254, step = 2101 (1.411 sec)\n",
      "INFO:tensorflow:global_step/sec: 69.4481\n",
      "INFO:tensorflow:loss = 0.223718, step = 2201 (1.440 sec)\n",
      "INFO:tensorflow:global_step/sec: 68.9907\n",
      "INFO:tensorflow:loss = 2.14495, step = 2301 (1.449 sec)\n",
      "INFO:tensorflow:global_step/sec: 65.7084\n",
      "INFO:tensorflow:loss = 0.83128, step = 2401 (1.522 sec)\n",
      "INFO:tensorflow:global_step/sec: 62.1099\n",
      "INFO:tensorflow:loss = 5.05639, step = 2501 (1.610 sec)\n",
      "INFO:tensorflow:global_step/sec: 66.2339\n",
      "INFO:tensorflow:loss = 0.49401, step = 2601 (1.510 sec)\n",
      "INFO:tensorflow:global_step/sec: 69.1691\n",
      "INFO:tensorflow:loss = 0.242889, step = 2701 (1.445 sec)\n",
      "INFO:tensorflow:global_step/sec: 68.7164\n",
      "INFO:tensorflow:loss = 26.1144, step = 2801 (1.455 sec)\n",
      "INFO:tensorflow:global_step/sec: 69.1036\n",
      "INFO:tensorflow:loss = 0.894184, step = 2901 (1.447 sec)\n",
      "INFO:tensorflow:global_step/sec: 69.1393\n",
      "INFO:tensorflow:loss = 0.915622, step = 3001 (1.446 sec)\n",
      "INFO:tensorflow:global_step/sec: 68.9503\n",
      "INFO:tensorflow:loss = 3.92242, step = 3101 (1.450 sec)\n",
      "INFO:tensorflow:global_step/sec: 69.1289\n",
      "INFO:tensorflow:loss = 0.979249, step = 3201 (1.447 sec)\n",
      "INFO:tensorflow:global_step/sec: 70.1418\n",
      "INFO:tensorflow:loss = 8.55106, step = 3301 (1.426 sec)\n",
      "INFO:tensorflow:global_step/sec: 68.9425\n",
      "INFO:tensorflow:loss = 14.0548, step = 3401 (1.450 sec)\n",
      "INFO:tensorflow:global_step/sec: 72.1135\n",
      "INFO:tensorflow:loss = 0.820938, step = 3501 (1.387 sec)\n",
      "INFO:tensorflow:global_step/sec: 69.7258\n",
      "INFO:tensorflow:loss = 2.99218, step = 3601 (1.434 sec)\n",
      "INFO:tensorflow:global_step/sec: 68.5057\n",
      "INFO:tensorflow:loss = 0.214521, step = 3701 (1.460 sec)\n",
      "INFO:tensorflow:global_step/sec: 68.8004\n",
      "INFO:tensorflow:loss = 1.76503, step = 3801 (1.453 sec)\n",
      "INFO:tensorflow:global_step/sec: 68.4832\n",
      "INFO:tensorflow:loss = 0.696405, step = 3901 (1.460 sec)\n",
      "INFO:tensorflow:global_step/sec: 70.0398\n",
      "INFO:tensorflow:loss = 1.03876, step = 4001 (1.428 sec)\n",
      "INFO:tensorflow:global_step/sec: 69.4416\n",
      "INFO:tensorflow:loss = 0.186038, step = 4101 (1.440 sec)\n",
      "INFO:tensorflow:global_step/sec: 68.5913\n",
      "INFO:tensorflow:loss = 0.285537, step = 4201 (1.458 sec)\n",
      "INFO:tensorflow:global_step/sec: 68.9323\n",
      "INFO:tensorflow:loss = 0.134074, step = 4301 (1.450 sec)\n",
      "INFO:tensorflow:global_step/sec: 69.1911\n",
      "INFO:tensorflow:loss = 6.0954, step = 4401 (1.445 sec)\n",
      "INFO:tensorflow:global_step/sec: 68.4604\n",
      "INFO:tensorflow:loss = 1.26513, step = 4501 (1.461 sec)\n",
      "INFO:tensorflow:global_step/sec: 70\n",
      "INFO:tensorflow:loss = 1.13429, step = 4601 (1.428 sec)\n",
      "INFO:tensorflow:global_step/sec: 69.4963\n",
      "INFO:tensorflow:loss = 0.560966, step = 4701 (1.439 sec)\n",
      "INFO:tensorflow:global_step/sec: 70.4222\n",
      "INFO:tensorflow:loss = 0.829432, step = 4801 (1.420 sec)\n",
      "INFO:tensorflow:global_step/sec: 67.5545\n",
      "INFO:tensorflow:loss = 3.16633, step = 4901 (1.480 sec)\n",
      "INFO:tensorflow:global_step/sec: 69.3011\n",
      "INFO:tensorflow:loss = 1.42409, step = 5001 (1.443 sec)\n",
      "INFO:tensorflow:global_step/sec: 70.0844\n",
      "INFO:tensorflow:loss = 1.05955, step = 5101 (1.428 sec)\n",
      "INFO:tensorflow:global_step/sec: 57.2894\n",
      "INFO:tensorflow:loss = 0.586273, step = 5201 (1.747 sec)\n",
      "INFO:tensorflow:global_step/sec: 60.0554\n",
      "INFO:tensorflow:loss = 39.0602, step = 5301 (1.664 sec)\n",
      "INFO:tensorflow:global_step/sec: 59.141\n",
      "INFO:tensorflow:loss = 0.164682, step = 5401 (1.690 sec)\n",
      "INFO:tensorflow:global_step/sec: 53.4314\n",
      "INFO:tensorflow:loss = 0.937591, step = 5501 (1.873 sec)\n",
      "INFO:tensorflow:global_step/sec: 57.3194\n",
      "INFO:tensorflow:loss = 0.807125, step = 5601 (1.743 sec)\n",
      "INFO:tensorflow:global_step/sec: 63.1\n",
      "INFO:tensorflow:loss = 1.29321, step = 5701 (1.585 sec)\n",
      "INFO:tensorflow:global_step/sec: 68.6845\n",
      "INFO:tensorflow:loss = 203.487, step = 5801 (1.456 sec)\n",
      "INFO:tensorflow:global_step/sec: 68.5269\n",
      "INFO:tensorflow:loss = 2.14388, step = 5901 (1.459 sec)\n",
      "INFO:tensorflow:global_step/sec: 68.9686\n",
      "INFO:tensorflow:loss = 0.413866, step = 6001 (1.450 sec)\n",
      "INFO:tensorflow:global_step/sec: 68.6687\n",
      "INFO:tensorflow:loss = 0.192047, step = 6101 (1.456 sec)\n",
      "INFO:tensorflow:global_step/sec: 67.9822\n",
      "INFO:tensorflow:loss = 0.370387, step = 6201 (1.471 sec)\n",
      "INFO:tensorflow:global_step/sec: 69.4083\n",
      "INFO:tensorflow:loss = 0.929455, step = 6301 (1.441 sec)\n",
      "INFO:tensorflow:global_step/sec: 65.995\n",
      "INFO:tensorflow:loss = 0.347845, step = 6401 (1.515 sec)\n",
      "INFO:tensorflow:global_step/sec: 69.3412\n",
      "INFO:tensorflow:loss = 0.324348, step = 6501 (1.442 sec)\n",
      "INFO:tensorflow:global_step/sec: 70.1082\n",
      "INFO:tensorflow:loss = 1.75828, step = 6601 (1.426 sec)\n",
      "INFO:tensorflow:global_step/sec: 70.4559\n",
      "INFO:tensorflow:loss = 0.450498, step = 6701 (1.419 sec)\n",
      "INFO:tensorflow:global_step/sec: 67.746\n",
      "INFO:tensorflow:loss = 0.330672, step = 6801 (1.476 sec)\n",
      "INFO:tensorflow:global_step/sec: 71.0235\n",
      "INFO:tensorflow:loss = 0.407798, step = 6901 (1.408 sec)\n",
      "INFO:tensorflow:global_step/sec: 69.1731\n",
      "INFO:tensorflow:loss = 1.06024, step = 7001 (1.446 sec)\n",
      "INFO:tensorflow:global_step/sec: 70.2254\n",
      "INFO:tensorflow:loss = 0.169366, step = 7101 (1.424 sec)\n",
      "INFO:tensorflow:global_step/sec: 69.3732\n",
      "INFO:tensorflow:loss = 0.826149, step = 7201 (1.441 sec)\n",
      "INFO:tensorflow:global_step/sec: 70.6305\n",
      "INFO:tensorflow:loss = 0.336067, step = 7301 (1.416 sec)\n",
      "INFO:tensorflow:global_step/sec: 70.0373\n",
      "INFO:tensorflow:loss = 0.345025, step = 7401 (1.428 sec)\n",
      "INFO:tensorflow:global_step/sec: 71.4259\n",
      "INFO:tensorflow:loss = 0.277027, step = 7501 (1.400 sec)\n",
      "INFO:tensorflow:global_step/sec: 69.6971\n",
      "INFO:tensorflow:loss = 0.833274, step = 7601 (1.435 sec)\n",
      "INFO:tensorflow:global_step/sec: 69.3846\n",
      "INFO:tensorflow:loss = 0.290232, step = 7701 (1.441 sec)\n",
      "INFO:tensorflow:global_step/sec: 69.9011\n",
      "INFO:tensorflow:loss = 0.239843, step = 7801 (1.431 sec)\n",
      "INFO:tensorflow:global_step/sec: 67.6361\n",
      "INFO:tensorflow:loss = 0.417305, step = 7901 (1.479 sec)\n",
      "INFO:tensorflow:global_step/sec: 68.4398\n",
      "INFO:tensorflow:loss = 0.364507, step = 8001 (1.461 sec)\n",
      "INFO:tensorflow:global_step/sec: 68.0854\n",
      "INFO:tensorflow:loss = 0.311064, step = 8101 (1.469 sec)\n",
      "INFO:tensorflow:global_step/sec: 67.864\n",
      "INFO:tensorflow:loss = 1.04036, step = 8201 (1.474 sec)\n",
      "INFO:tensorflow:global_step/sec: 68.0808\n"
     ]
    },
    {
     "name": "stdout",
     "output_type": "stream",
     "text": [
      "INFO:tensorflow:loss = 1.2615, step = 8301 (1.469 sec)\n",
      "INFO:tensorflow:global_step/sec: 67.9305\n",
      "INFO:tensorflow:loss = 0.876951, step = 8401 (1.472 sec)\n",
      "INFO:tensorflow:global_step/sec: 69.258\n",
      "INFO:tensorflow:loss = 0.816775, step = 8501 (1.444 sec)\n",
      "INFO:tensorflow:global_step/sec: 71.9257\n",
      "INFO:tensorflow:loss = 0.938844, step = 8601 (1.390 sec)\n",
      "INFO:tensorflow:global_step/sec: 69.7069\n",
      "INFO:tensorflow:loss = 0.226004, step = 8701 (1.435 sec)\n",
      "INFO:tensorflow:global_step/sec: 67.6638\n",
      "INFO:tensorflow:loss = 1.46434, step = 8801 (1.478 sec)\n",
      "INFO:tensorflow:global_step/sec: 69.5462\n",
      "INFO:tensorflow:loss = 0.418412, step = 8901 (1.438 sec)\n",
      "INFO:tensorflow:global_step/sec: 68.6747\n",
      "INFO:tensorflow:loss = 0.938118, step = 9001 (1.456 sec)\n",
      "INFO:tensorflow:global_step/sec: 67.8526\n",
      "INFO:tensorflow:loss = 0.234134, step = 9101 (1.474 sec)\n",
      "INFO:tensorflow:global_step/sec: 70.2441\n",
      "INFO:tensorflow:loss = 2.2735, step = 9201 (1.424 sec)\n",
      "INFO:tensorflow:global_step/sec: 70.5292\n",
      "INFO:tensorflow:loss = 6.71959, step = 9301 (1.418 sec)\n",
      "INFO:tensorflow:global_step/sec: 68.6756\n",
      "INFO:tensorflow:loss = 0.908478, step = 9401 (1.456 sec)\n",
      "INFO:tensorflow:global_step/sec: 69.9855\n",
      "INFO:tensorflow:loss = 4.61985, step = 9501 (1.429 sec)\n",
      "INFO:tensorflow:global_step/sec: 69.0973\n",
      "INFO:tensorflow:loss = 0.215283, step = 9601 (1.447 sec)\n",
      "INFO:tensorflow:global_step/sec: 71.3954\n",
      "INFO:tensorflow:loss = 0.370821, step = 9701 (1.401 sec)\n",
      "INFO:tensorflow:global_step/sec: 70.6537\n",
      "INFO:tensorflow:loss = 0.749487, step = 9801 (1.415 sec)\n",
      "INFO:tensorflow:global_step/sec: 68.5352\n",
      "INFO:tensorflow:loss = 2.96621, step = 9901 (1.459 sec)\n",
      "INFO:tensorflow:global_step/sec: 70.1301\n",
      "INFO:tensorflow:loss = 0.594067, step = 10001 (1.426 sec)\n",
      "INFO:tensorflow:global_step/sec: 70.0457\n",
      "INFO:tensorflow:loss = 0.905318, step = 10101 (1.428 sec)\n",
      "INFO:tensorflow:global_step/sec: 70.3771\n",
      "INFO:tensorflow:loss = 0.572675, step = 10201 (1.421 sec)\n",
      "INFO:tensorflow:global_step/sec: 72.5285\n",
      "INFO:tensorflow:loss = 0.148738, step = 10301 (1.379 sec)\n",
      "INFO:tensorflow:global_step/sec: 67.3874\n",
      "INFO:tensorflow:loss = 2.33451, step = 10401 (1.484 sec)\n",
      "INFO:tensorflow:global_step/sec: 70.2508\n",
      "INFO:tensorflow:loss = 1.20011, step = 10501 (1.423 sec)\n",
      "INFO:tensorflow:global_step/sec: 69.5685\n",
      "INFO:tensorflow:loss = 1.37564, step = 10601 (1.437 sec)\n",
      "INFO:tensorflow:global_step/sec: 69.222\n",
      "INFO:tensorflow:loss = 0.663616, step = 10701 (1.445 sec)\n",
      "INFO:tensorflow:global_step/sec: 69.5439\n",
      "INFO:tensorflow:loss = 27.0781, step = 10801 (1.438 sec)\n",
      "INFO:tensorflow:global_step/sec: 70.0829\n",
      "INFO:tensorflow:loss = 0.105703, step = 10901 (1.427 sec)\n",
      "INFO:tensorflow:global_step/sec: 69.7998\n",
      "INFO:tensorflow:loss = 0.515817, step = 11001 (1.433 sec)\n",
      "INFO:tensorflow:global_step/sec: 69.0215\n",
      "INFO:tensorflow:loss = 0.48139, step = 11101 (1.449 sec)\n",
      "INFO:tensorflow:global_step/sec: 68.5718\n",
      "INFO:tensorflow:loss = 0.155494, step = 11201 (1.458 sec)\n",
      "INFO:tensorflow:Saving checkpoints for 11285 into /var/folders/dx/pz80lsmn42xftdx1wckt0zh00000gn/T/tmpv0fdw_8g/model.ckpt.\n",
      "INFO:tensorflow:Loss for final step: 0.0942656.\n"
     ]
    },
    {
     "data": {
      "text/plain": [
       "<tensorflow.python.estimator.canned.dnn.DNNRegressor at 0x11c5d9748>"
      ]
     },
     "execution_count": 27,
     "metadata": {},
     "output_type": "execute_result"
    }
   ],
   "source": [
    "m.train(input_fn=input_fn(x_train, y_train, num_epochs=5))"
   ]
  },
  {
   "cell_type": "code",
   "execution_count": 28,
   "metadata": {},
   "outputs": [
    {
     "name": "stdout",
     "output_type": "stream",
     "text": [
      "INFO:tensorflow:Restoring parameters from /var/folders/dx/pz80lsmn42xftdx1wckt0zh00000gn/T/tmpv0fdw_8g/model.ckpt-11285\n",
      "test set mean absolute error is 0.06867904644577298\n"
     ]
    }
   ],
   "source": [
    "import numpy as np\n",
    "y_pred = list(m.predict(input_fn=input_fn(x_test, y_test, shuffle = False, num_threads=1, num_epochs = 1)))\n",
    "\n",
    "y_pred = np.array([x[\"predictions\"][0] for x in y_pred])\n",
    "from sklearn.metrics import mean_absolute_error\n",
    "mae = mean_absolute_error(y_true=y_test, y_pred=y_pred)\n",
    "print(\"test set mean absolute error is {}\".format(mae))"
   ]
  },
  {
   "cell_type": "code",
   "execution_count": 29,
   "metadata": {},
   "outputs": [],
   "source": [
    "with open('xgbresults', 'r') as f:\n",
    "    xgbresults = f.read().split(\"\\n\")[:-1]\n",
    "xgbresults = np.array(xgbresults).astype(np.float)"
   ]
  },
  {
   "cell_type": "code",
   "execution_count": 30,
   "metadata": {},
   "outputs": [
    {
     "name": "stdout",
     "output_type": "stream",
     "text": [
      "test set mean absolute error is 0.06867904644577298\n"
     ]
    }
   ],
   "source": [
    "mae = mean_absolute_error(y_true=y_test, y_pred=y_pred)\n",
    "print(\"test set mean absolute error is {}\".format(mae))"
   ]
  },
  {
   "cell_type": "code",
   "execution_count": null,
   "metadata": {
    "collapsed": true
   },
   "outputs": [],
   "source": []
  },
  {
   "cell_type": "code",
   "execution_count": null,
   "metadata": {
    "collapsed": true
   },
   "outputs": [],
   "source": []
  }
 ],
 "metadata": {
  "kernelspec": {
   "display_name": "Python 3",
   "language": "python",
   "name": "python3"
  },
  "language_info": {
   "codemirror_mode": {
    "name": "ipython",
    "version": 3
   },
   "file_extension": ".py",
   "mimetype": "text/x-python",
   "name": "python",
   "nbconvert_exporter": "python",
   "pygments_lexer": "ipython3",
   "version": "3.6.3"
  }
 },
 "nbformat": 4,
 "nbformat_minor": 2
}
